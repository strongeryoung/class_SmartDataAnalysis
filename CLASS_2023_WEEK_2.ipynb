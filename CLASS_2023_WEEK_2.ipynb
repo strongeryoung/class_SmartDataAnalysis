{
  "nbformat": 4,
  "nbformat_minor": 0,
  "metadata": {
    "colab": {
      "provenance": [],
      "toc_visible": true,
      "include_colab_link": true
    },
    "kernelspec": {
      "name": "python3",
      "display_name": "Python 3"
    },
    "language_info": {
      "name": "python"
    }
  },
  "cells": [
    {
      "cell_type": "markdown",
      "metadata": {
        "id": "view-in-github",
        "colab_type": "text"
      },
      "source": [
        "<a href=\"https://colab.research.google.com/github/strongeryoung/class_SmartDataAnalysis/blob/main/CLASS_2023_WEEK_2.ipynb\" target=\"_parent\"><img src=\"https://colab.research.google.com/assets/colab-badge.svg\" alt=\"Open In Colab\"/></a>"
      ]
    },
    {
      "cell_type": "markdown",
      "source": [
        "# __2023년 2학기 스마트관광데이터 애널리스틱스 2__\n",
        "\n",
        "## __1. Python Coding과 친해지기 (1)__\n",
        "\n",
        "- 변수란 ? 데이터를 모은 집합에 이름을 부여하는 일\n",
        "- 특징\n",
        "  - 변수명 = data 형식으로 사용\n",
        "  - 대소문자 구문 유의\n",
        "  - 숫자로 시작하는 변수명 허용안됨\n",
        "  - 공백불가\n",
        "  - '_' 외에 기호 사용 불가\n",
        "  - 예약어(if, date, del, class 등) 사용 불가\n",
        "- 변수명 부여에 핵심 : 데이터에 맞는 변수명을 사용"
      ],
      "metadata": {
        "id": "_7ssBBqBnuMn"
      }
    },
    {
      "cell_type": "code",
      "source": [
        "from google.colab import drive\n",
        "drive.mount('/content/drive')"
      ],
      "metadata": {
        "colab": {
          "base_uri": "https://localhost:8080/"
        },
        "id": "qYWseF9filiz",
        "outputId": "f31cb27c-9167-4d9f-b8e9-ff903900742e"
      },
      "execution_count": null,
      "outputs": [
        {
          "output_type": "stream",
          "name": "stdout",
          "text": [
            "Drive already mounted at /content/drive; to attempt to forcibly remount, call drive.mount(\"/content/drive\", force_remount=True).\n"
          ]
        }
      ]
    },
    {
      "cell_type": "code",
      "source": [
        "colab mount\n",
        "from google.colab import drive\n",
        "drive.mount('/content/drive')\n",
        "\n",
        "# 주석처리 하는법?"
      ],
      "metadata": {
        "id": "npV7BFa5MP3r",
        "colab": {
          "base_uri": "https://localhost:8080/",
          "height": 146
        },
        "outputId": "69205ff7-0b69-42f5-f7ca-872a8e1cf7c0"
      },
      "execution_count": null,
      "outputs": [
        {
          "output_type": "error",
          "ename": "SyntaxError",
          "evalue": "ignored",
          "traceback": [
            "\u001b[0;36m  File \u001b[0;32m\"<ipython-input-4-f2bc2d5ec857>\"\u001b[0;36m, line \u001b[0;32m1\u001b[0m\n\u001b[0;31m    colab mount\u001b[0m\n\u001b[0m          ^\u001b[0m\n\u001b[0;31mSyntaxError\u001b[0m\u001b[0;31m:\u001b[0m invalid syntax\n"
          ]
        }
      ]
    },
    {
      "cell_type": "code",
      "source": [
        "import pandas as pd\n",
        "import numpy as np"
      ],
      "metadata": {
        "id": "FnDlyldOmqx-"
      },
      "execution_count": null,
      "outputs": []
    },
    {
      "cell_type": "code",
      "execution_count": null,
      "metadata": {
        "id": "wYZYo4tlnqMn",
        "colab": {
          "base_uri": "https://localhost:8080/"
        },
        "outputId": "db3d2b88-14fb-4f6d-8333-b27e2d541786"
      },
      "outputs": [
        {
          "output_type": "stream",
          "name": "stdout",
          "text": [
            "hello world\n"
          ]
        }
      ],
      "source": [
        "## 예제 코드\n",
        "\n",
        "# 10 = num\n",
        "word = \"hello world\"\n",
        "print(word)"
      ]
    },
    {
      "cell_type": "markdown",
      "source": [],
      "metadata": {
        "id": "xpVRx9_laWAs"
      }
    },
    {
      "cell_type": "code",
      "source": [
        "number =13\n",
        "\n",
        "print(number, number*2, number**2, number/number)"
      ],
      "metadata": {
        "id": "hUbFpET8qfo3"
      },
      "execution_count": null,
      "outputs": []
    },
    {
      "cell_type": "code",
      "source": [
        "bbb = 5\n",
        "print(bbb)"
      ],
      "metadata": {
        "colab": {
          "base_uri": "https://localhost:8080/"
        },
        "id": "yVUsSZYZqiKy",
        "outputId": "98801fc3-051d-4b7e-94af-1aee750d8151"
      },
      "execution_count": null,
      "outputs": [
        {
          "output_type": "stream",
          "name": "stdout",
          "text": [
            "5\n"
          ]
        }
      ]
    },
    {
      "cell_type": "code",
      "source": [
        "BBB = 3\n",
        "print(bbb, BBB)"
      ],
      "metadata": {
        "colab": {
          "base_uri": "https://localhost:8080/"
        },
        "id": "5aAMgH0zqjk2",
        "outputId": "49d4c845-0c23-45ab-fdb7-6a16ffb000e6"
      },
      "execution_count": null,
      "outputs": [
        {
          "output_type": "stream",
          "name": "stdout",
          "text": [
            "5 3\n"
          ]
        }
      ]
    },
    {
      "cell_type": "code",
      "source": [
        "## 에러코드 예시\n",
        "\n",
        "phy = 7"
      ],
      "metadata": {
        "id": "xbUbmM9jqoGQ"
      },
      "execution_count": null,
      "outputs": []
    },
    {
      "cell_type": "code",
      "source": [
        "a5 = 11"
      ],
      "metadata": {
        "id": "s-mNDvwisjkZ"
      },
      "execution_count": null,
      "outputs": []
    },
    {
      "cell_type": "code",
      "source": [
        "#if = 100"
      ],
      "metadata": {
        "id": "9mAMgur9riuc"
      },
      "execution_count": null,
      "outputs": []
    },
    {
      "cell_type": "code",
      "source": [
        "if_data = 123\n",
        "print(if_data)"
      ],
      "metadata": {
        "id": "5IiSX6YWrkke",
        "colab": {
          "base_uri": "https://localhost:8080/"
        },
        "outputId": "35f3bfb3-00aa-4d27-b030-bd58a07a412f"
      },
      "execution_count": null,
      "outputs": [
        {
          "output_type": "stream",
          "name": "stdout",
          "text": [
            "123\n"
          ]
        }
      ]
    },
    {
      "cell_type": "markdown",
      "source": [
        "- 숫자 변수형\n",
        "\n",
        "- 특징\n",
        "  - int(정수), float(소수) type으로 활용됨\n",
        "  - 사칙연산이 가능\n",
        "  - data import 이후 Data 형상 파악시에 반드시 숫자 데이터의  type 확인 필요"
      ],
      "metadata": {
        "id": "g-_WiO7stH_d"
      }
    },
    {
      "cell_type": "code",
      "source": [
        "## 예제 코드\n",
        "\n",
        "num1 = 120\n",
        "num2 = 200.198223810557\n",
        "\n",
        "print(num1, type(num1))\n",
        "print(num2, type(num2))"
      ],
      "metadata": {
        "colab": {
          "base_uri": "https://localhost:8080/"
        },
        "id": "tX6y5hFht1yV",
        "outputId": "0dcc34d9-4dcf-4702-884a-536b879f8ccd"
      },
      "execution_count": null,
      "outputs": [
        {
          "output_type": "stream",
          "name": "stdout",
          "text": [
            "120 <class 'int'>\n",
            "200.198223810557 <class 'float'>\n"
          ]
        }
      ]
    },
    {
      "cell_type": "code",
      "source": [
        "print(num1+10)\n",
        "print(num1-20)\n",
        "print(num1/20)"
      ],
      "metadata": {
        "colab": {
          "base_uri": "https://localhost:8080/"
        },
        "id": "dRNMGT-KuEaV",
        "outputId": "89580bf6-0401-4810-bb0e-cc5cd4a37c30"
      },
      "execution_count": null,
      "outputs": [
        {
          "output_type": "stream",
          "name": "stdout",
          "text": [
            "130\n",
            "100\n",
            "6.0\n"
          ]
        }
      ]
    },
    {
      "cell_type": "code",
      "source": [
        "num1 = num1 + 10\n",
        "print(num1)"
      ],
      "metadata": {
        "colab": {
          "base_uri": "https://localhost:8080/"
        },
        "id": "n_Cl3GwzuFsM",
        "outputId": "6c35f97e-29c4-4c09-b818-0d02dd53ce7b"
      },
      "execution_count": null,
      "outputs": [
        {
          "output_type": "stream",
          "name": "stdout",
          "text": [
            "130\n"
          ]
        }
      ]
    },
    {
      "cell_type": "code",
      "source": [
        "num1 = 100\n",
        "num1 += 10\n",
        "print(num1)"
      ],
      "metadata": {
        "colab": {
          "base_uri": "https://localhost:8080/"
        },
        "id": "yUXC8uf0uJhC",
        "outputId": "37b44ed5-9446-4992-e983-d74458f66d83"
      },
      "execution_count": null,
      "outputs": [
        {
          "output_type": "stream",
          "name": "stdout",
          "text": [
            "110\n"
          ]
        }
      ]
    },
    {
      "cell_type": "code",
      "source": [
        "## round 함수의 활용\n",
        "\n",
        "print(num2)\n",
        "print(round(num2))\n",
        "\n",
        "## round 결과 범위 결정\n",
        "print(round(num2, 1))\n",
        "print(round(num2, 2))"
      ],
      "metadata": {
        "colab": {
          "base_uri": "https://localhost:8080/"
        },
        "id": "SzsgG4PduMOk",
        "outputId": "bab24a4d-6503-452d-b19b-d0710d900d1b"
      },
      "execution_count": null,
      "outputs": [
        {
          "output_type": "stream",
          "name": "stdout",
          "text": [
            "200.198223810557\n",
            "200\n",
            "200.2\n",
            "200.2\n"
          ]
        }
      ]
    },
    {
      "cell_type": "code",
      "source": [
        "## 변수의 형태 변경 (float --> integer)\n",
        "\n",
        "print(int(num2))"
      ],
      "metadata": {
        "colab": {
          "base_uri": "https://localhost:8080/"
        },
        "id": "FqwB364DuPav",
        "outputId": "4cd96112-ce9c-4e0d-f3f5-52b02fdd8f59"
      },
      "execution_count": null,
      "outputs": [
        {
          "output_type": "stream",
          "name": "stdout",
          "text": [
            "200\n"
          ]
        }
      ]
    },
    {
      "cell_type": "code",
      "source": [
        "# str(num2)"
      ],
      "metadata": {
        "id": "-t91ic30PWn5"
      },
      "execution_count": null,
      "outputs": []
    },
    {
      "cell_type": "code",
      "source": [
        "## 대문자를 사용하여 상수 변수를 지정 : 절대로 바뀌지 않을 변수명 작성\n",
        "\n",
        "PI=3.14\n",
        "print(PI)"
      ],
      "metadata": {
        "colab": {
          "base_uri": "https://localhost:8080/"
        },
        "id": "Hj8UUIkhuSdf",
        "outputId": "974c5e65-997c-44b1-e6b7-aacae5759454"
      },
      "execution_count": null,
      "outputs": [
        {
          "output_type": "stream",
          "name": "stdout",
          "text": [
            "3.14\n"
          ]
        }
      ]
    },
    {
      "cell_type": "markdown",
      "source": [
        "1. Python Coding과 친해지기 (2)\n",
        "- 문자형 데이터 타입\n",
        "\n"
      ],
      "metadata": {
        "id": "QjTr-LwynkYY"
      }
    },
    {
      "cell_type": "markdown",
      "source": [
        "## __1. Python Coding과 친해지기 (2)__\n",
        "\n",
        "- 문자형 및 시간형 변수"
      ],
      "metadata": {
        "id": "n5laXNlaZbsM"
      }
    },
    {
      "cell_type": "code",
      "source": [
        "a = 'My'\n",
        "b = 'Name'\n",
        "c = '3'\n",
        "\n",
        "print(a, type(a))\n",
        "print(b, type(b))\n",
        "print(c, type(c))"
      ],
      "metadata": {
        "colab": {
          "base_uri": "https://localhost:8080/"
        },
        "id": "5t6ThVvNnv79",
        "outputId": "621eca82-01af-484d-84a1-f8e3386fc6e5"
      },
      "execution_count": null,
      "outputs": [
        {
          "output_type": "stream",
          "name": "stdout",
          "text": [
            "My <class 'str'>\n",
            "Name <class 'str'>\n",
            "3 <class 'str'>\n"
          ]
        }
      ]
    },
    {
      "cell_type": "code",
      "source": [
        "c"
      ],
      "metadata": {
        "colab": {
          "base_uri": "https://localhost:8080/",
          "height": 35
        },
        "id": "NGfuJ0cboLW2",
        "outputId": "6b4c2132-3d9d-4bec-8a57-3086980a46b1"
      },
      "execution_count": null,
      "outputs": [
        {
          "output_type": "execute_result",
          "data": {
            "text/plain": [
              "'3'"
            ],
            "application/vnd.google.colaboratory.intrinsic+json": {
              "type": "string"
            }
          },
          "metadata": {},
          "execution_count": 27
        }
      ]
    },
    {
      "cell_type": "code",
      "source": [
        "print(c * 4)"
      ],
      "metadata": {
        "colab": {
          "base_uri": "https://localhost:8080/"
        },
        "id": "ca6uvyVEn1dS",
        "outputId": "26bca3df-fe32-47d6-88de-646667867e53"
      },
      "execution_count": null,
      "outputs": [
        {
          "output_type": "stream",
          "name": "stdout",
          "text": [
            "3333\n"
          ]
        }
      ]
    },
    {
      "cell_type": "code",
      "source": [
        "print(a * 4)"
      ],
      "metadata": {
        "colab": {
          "base_uri": "https://localhost:8080/"
        },
        "id": "J04IZgjsn4bI",
        "outputId": "3c3bb24b-b59b-481e-9fa3-9d0b2c72da11"
      },
      "execution_count": null,
      "outputs": [
        {
          "output_type": "stream",
          "name": "stdout",
          "text": [
            "MyMyMyMy\n"
          ]
        }
      ]
    },
    {
      "cell_type": "code",
      "source": [
        "# 이건 될까?\n",
        "\n",
        "# print(c + 4)\n",
        "\n",
        "## 데이터 타입에 항상 유념하자"
      ],
      "metadata": {
        "id": "01HE7pIon-AD"
      },
      "execution_count": null,
      "outputs": []
    },
    {
      "cell_type": "code",
      "source": [
        "int_c = int(c)\n",
        "print(int_c + 4)"
      ],
      "metadata": {
        "colab": {
          "base_uri": "https://localhost:8080/"
        },
        "id": "FFg6BCxaoG58",
        "outputId": "448d735f-6f19-4102-f2b1-01944b4614a4"
      },
      "execution_count": null,
      "outputs": [
        {
          "output_type": "stream",
          "name": "stdout",
          "text": [
            "7\n"
          ]
        }
      ]
    },
    {
      "cell_type": "code",
      "source": [
        "print(c + a)"
      ],
      "metadata": {
        "colab": {
          "base_uri": "https://localhost:8080/"
        },
        "id": "Jz_5LZJGoecB",
        "outputId": "39a7c723-e869-4956-e632-b16f9e049b48"
      },
      "execution_count": null,
      "outputs": [
        {
          "output_type": "stream",
          "name": "stdout",
          "text": [
            "3My\n"
          ]
        }
      ]
    },
    {
      "cell_type": "code",
      "source": [
        "print(a + b)\n",
        "print(a, b)\n",
        "print(a + ' ' + b)\n",
        "print(a*2 + ' ' + b)\n",
        "print('-' * 70)"
      ],
      "metadata": {
        "colab": {
          "base_uri": "https://localhost:8080/"
        },
        "id": "alfbHnbWoigq",
        "outputId": "682f9716-e044-42ed-8cc6-ade2e0aefb7f"
      },
      "execution_count": null,
      "outputs": [
        {
          "output_type": "stream",
          "name": "stdout",
          "text": [
            "MyName\n",
            "My Name\n",
            "My Name\n",
            "MyMy Name\n",
            "----------------------------------------------------------------------\n"
          ]
        }
      ]
    },
    {
      "cell_type": "code",
      "source": [
        "## 시간 변수 사용에 필수 라이브러리 datetime\n",
        "\n",
        "from datetime import datetime, timedelta"
      ],
      "metadata": {
        "id": "POrtwI1SrhZA"
      },
      "execution_count": null,
      "outputs": []
    },
    {
      "cell_type": "code",
      "source": [
        "print(datetime.now())\n",
        "print(datetime.today())\n",
        "print(datetime.now().date())"
      ],
      "metadata": {
        "colab": {
          "base_uri": "https://localhost:8080/"
        },
        "id": "BS6XZB4ern3F",
        "outputId": "6d4721f4-9b5c-4259-9c8d-80681809cd76"
      },
      "execution_count": null,
      "outputs": [
        {
          "output_type": "stream",
          "name": "stdout",
          "text": [
            "2023-09-09 05:48:42.680894\n",
            "2023-09-09 05:48:42.681079\n",
            "2023-09-09\n"
          ]
        }
      ]
    },
    {
      "cell_type": "code",
      "source": [
        "# string formatted time\n",
        "# 검색 : python time format\n",
        "print(datetime.now().strftime('%Y년 %m월'))\n",
        "\n",
        "print(type(datetime.now()))\n",
        "print(type(datetime.now().strftime('%Y년 %m월')))"
      ],
      "metadata": {
        "colab": {
          "base_uri": "https://localhost:8080/"
        },
        "id": "3GqDLLe_roAW",
        "outputId": "57c383b3-6729-4e8d-e2ec-f4b4ddc105db"
      },
      "execution_count": null,
      "outputs": [
        {
          "output_type": "stream",
          "name": "stdout",
          "text": [
            "2023년 09월\n",
            "<class 'datetime.datetime'>\n",
            "<class 'str'>\n"
          ]
        }
      ]
    },
    {
      "cell_type": "code",
      "source": [
        "dt = '10/02/2022'\n",
        "print(dt)"
      ],
      "metadata": {
        "colab": {
          "base_uri": "https://localhost:8080/"
        },
        "id": "qi3JDWZhroF3",
        "outputId": "1b29e5e5-761f-45ad-b4d3-7a3e5eb5cb9a"
      },
      "execution_count": null,
      "outputs": [
        {
          "output_type": "stream",
          "name": "stdout",
          "text": [
            "10/02/2022\n"
          ]
        }
      ]
    },
    {
      "cell_type": "code",
      "source": [
        "print(datetime.strptime(dt, '%d/%m/%Y'), type(datetime.strptime(dt, '%d/%m/%Y')))"
      ],
      "metadata": {
        "colab": {
          "base_uri": "https://localhost:8080/"
        },
        "id": "njW8b2K_roIq",
        "outputId": "0bb102f9-f1b9-4062-db14-9f026f67d7df"
      },
      "execution_count": null,
      "outputs": [
        {
          "output_type": "stream",
          "name": "stdout",
          "text": [
            "2022-02-10 00:00:00 <class 'datetime.datetime'>\n"
          ]
        }
      ]
    },
    {
      "cell_type": "code",
      "source": [
        "print(datetime.strptime(dt, '%d/%m/%Y').strftime('%Y년 %m월 %d일'))"
      ],
      "metadata": {
        "colab": {
          "base_uri": "https://localhost:8080/"
        },
        "id": "8AOKKfB3sniD",
        "outputId": "55bf0d94-4549-4bd6-8195-1e5c42b267af"
      },
      "execution_count": null,
      "outputs": [
        {
          "output_type": "stream",
          "name": "stdout",
          "text": [
            "2022년 02월 10일\n"
          ]
        }
      ]
    },
    {
      "cell_type": "code",
      "source": [
        "# 검색 : pandas date_range\n",
        "import pandas as pd\n",
        "\n",
        "start_date = '2018-01-01'\n",
        "date_list = pd.date_range(start_date, periods = 13, freq = 'MS').astype(str)\n",
        "print(date_list)\n",
        "\n",
        "\n",
        "start_date = '2018-01-01'\n",
        "end_date = '2023--08-01'\n",
        "date_list = pd.date_range(start_date, end_date, freq = 'M').astype(str)\n",
        "print(date_list)"
      ],
      "metadata": {
        "colab": {
          "base_uri": "https://localhost:8080/"
        },
        "id": "bXe1bauesnqv",
        "outputId": "ca92463f-a244-4599-ef02-1716a07a08fe"
      },
      "execution_count": null,
      "outputs": [
        {
          "output_type": "stream",
          "name": "stdout",
          "text": [
            "Index(['2018-01-01', '2018-02-01', '2018-03-01', '2018-04-01', '2018-05-01',\n",
            "       '2018-06-01', '2018-07-01', '2018-08-01', '2018-09-01', '2018-10-01',\n",
            "       '2018-11-01', '2018-12-01', '2019-01-01'],\n",
            "      dtype='object')\n",
            "Index(['2018-01-31', '2018-02-28', '2018-03-31', '2018-04-30', '2018-05-31',\n",
            "       '2018-06-30', '2018-07-31', '2018-08-31', '2018-09-30', '2018-10-31',\n",
            "       '2018-11-30', '2018-12-31', '2019-01-31', '2019-02-28', '2019-03-31',\n",
            "       '2019-04-30', '2019-05-31', '2019-06-30', '2019-07-31', '2019-08-31',\n",
            "       '2019-09-30', '2019-10-31', '2019-11-30', '2019-12-31', '2020-01-31',\n",
            "       '2020-02-29', '2020-03-31', '2020-04-30', '2020-05-31', '2020-06-30',\n",
            "       '2020-07-31', '2020-08-31', '2020-09-30', '2020-10-31', '2020-11-30',\n",
            "       '2020-12-31', '2021-01-31', '2021-02-28', '2021-03-31', '2021-04-30',\n",
            "       '2021-05-31', '2021-06-30', '2021-07-31', '2021-08-31', '2021-09-30',\n",
            "       '2021-10-31', '2021-11-30', '2021-12-31', '2022-01-31', '2022-02-28',\n",
            "       '2022-03-31', '2022-04-30', '2022-05-31', '2022-06-30', '2022-07-31',\n",
            "       '2022-08-31', '2022-09-30', '2022-10-31', '2022-11-30', '2022-12-31',\n",
            "       '2023-01-31', '2023-02-28', '2023-03-31', '2023-04-30', '2023-05-31',\n",
            "       '2023-06-30', '2023-07-31'],\n",
            "      dtype='object')\n"
          ]
        }
      ]
    },
    {
      "cell_type": "code",
      "source": [
        "date_list[1]"
      ],
      "metadata": {
        "colab": {
          "base_uri": "https://localhost:8080/",
          "height": 35
        },
        "id": "BwX4421rsnuC",
        "outputId": "262c964d-929e-4af0-f983-82ec22ce63b8"
      },
      "execution_count": null,
      "outputs": [
        {
          "output_type": "execute_result",
          "data": {
            "text/plain": [
              "'2018-02-01'"
            ],
            "application/vnd.google.colaboratory.intrinsic+json": {
              "type": "string"
            }
          },
          "metadata": {},
          "execution_count": 32
        }
      ]
    },
    {
      "cell_type": "code",
      "source": [
        "## 시간변수의 연산\n",
        "\n",
        "# 두 개의 날짜 생성\n",
        "date1 = datetime(2023, 8, 1)\n",
        "date2 = datetime(2023, 8, 15)\n",
        "\n",
        "# 날짜 간의 차이 계산\n",
        "time_difference = date2 - date1\n",
        "\n",
        "# 차이를 일(day)로 변환\n",
        "days_difference = time_difference.days\n",
        "\n",
        "print(f\"날짜 차이: {days_difference}일\")"
      ],
      "metadata": {
        "colab": {
          "base_uri": "https://localhost:8080/"
        },
        "id": "5M-J72DHs1dD",
        "outputId": "a66e5219-6911-466c-f577-5dedc1f5ec0b"
      },
      "execution_count": null,
      "outputs": [
        {
          "output_type": "stream",
          "name": "stdout",
          "text": [
            "날짜 차이: 14일\n"
          ]
        }
      ]
    },
    {
      "cell_type": "code",
      "source": [
        "# 시작 날짜 생성\n",
        "start_date = datetime(2019, 12, 10)\n",
        "\n",
        "# 125일 뒤의 날짜 계산\n",
        "delta = timedelta(days=125)\n",
        "result_date = start_date + delta\n",
        "\n",
        "print(f\"2019년 12월 10일로부터 125일 후의 날짜: {result_date.strftime('%Y년 %m월 %d일')}\")"
      ],
      "metadata": {
        "colab": {
          "base_uri": "https://localhost:8080/"
        },
        "id": "AXDwd2batrfj",
        "outputId": "a3a2073f-9fd1-45f4-dbb0-4d89f396827d"
      },
      "execution_count": null,
      "outputs": [
        {
          "output_type": "stream",
          "name": "stdout",
          "text": [
            "2019년 12월 10일로부터 125일 후의 날짜: 2020년 04월 13일\n"
          ]
        }
      ]
    },
    {
      "cell_type": "markdown",
      "source": [
        "## __1. Python Coding과 친해지기 (3)__\n",
        "\n",
        "- 리스트 : 데이터를 집합 시킨 데이터 타입"
      ],
      "metadata": {
        "id": "1Ppvb1uLrUZo"
      }
    },
    {
      "cell_type": "code",
      "source": [
        "# 리스트 선언\n",
        "\n",
        "list = []\n",
        "\n",
        "name = ['Hoyoung', 'James', 'John','Michael','David']\n",
        "\n",
        "age = [19, 15, 20, 30, 25]"
      ],
      "metadata": {
        "id": "Zq0FBRJIZWaA"
      },
      "execution_count": null,
      "outputs": []
    },
    {
      "cell_type": "code",
      "source": [
        "name"
      ],
      "metadata": {
        "colab": {
          "base_uri": "https://localhost:8080/"
        },
        "id": "YgGylqKalpSU",
        "outputId": "2c92eb6a-f0c4-44cd-f01a-1f89ac650c99"
      },
      "execution_count": null,
      "outputs": [
        {
          "output_type": "execute_result",
          "data": {
            "text/plain": [
              "['Hoyoung', 'James', 'John', 'Michael', 'David']"
            ]
          },
          "metadata": {},
          "execution_count": 21
        }
      ]
    },
    {
      "cell_type": "code",
      "source": [
        "list"
      ],
      "metadata": {
        "colab": {
          "base_uri": "https://localhost:8080/"
        },
        "id": "OxBS31T0lPbE",
        "outputId": "4e24be16-fedb-4b00-9262-9c723355494f"
      },
      "execution_count": null,
      "outputs": [
        {
          "output_type": "execute_result",
          "data": {
            "text/plain": [
              "[]"
            ]
          },
          "metadata": {},
          "execution_count": 13
        }
      ]
    },
    {
      "cell_type": "markdown",
      "source": [
        "- 리스트 인덱싱의 특성\n",
        "  - 0부터 시작함\n",
        "  - 리스트 자르기 : 리스트 끝수는 포함 안됨\n",
        "\n",
        "| 　             | Hoyoung | James | John | Machael | David |\n",
        "|----------------|:-------:|:-----:|:----:|:-------:|:-----:|\n",
        "| Index          |    0    |   1   |   2  |    3    |   4   |\n",
        "| Negative Index |    -5   |   -4  |  -3  |    -2   |   -1  |"
      ],
      "metadata": {
        "id": "3ZaNKCU9apEF"
      }
    },
    {
      "cell_type": "code",
      "source": [
        "print(name[0])\n",
        "print(name[3])\n",
        "print(name[-1])\n",
        "## 리스트 자르기\n",
        "print(name[:3])\n",
        "print(name[-4:-2])"
      ],
      "metadata": {
        "colab": {
          "base_uri": "https://localhost:8080/"
        },
        "id": "2XHw9vkhbzKv",
        "outputId": "b6062fa1-fa8a-403c-b3d1-ab64cacda176"
      },
      "execution_count": null,
      "outputs": [
        {
          "output_type": "stream",
          "name": "stdout",
          "text": [
            "Hoyoung\n",
            "Michael\n",
            "David\n",
            "['Hoyoung', 'James', 'John']\n",
            "['James', 'John']\n"
          ]
        }
      ]
    },
    {
      "cell_type": "code",
      "source": [
        "## reverse()\n",
        "name.reverse()\n",
        "print(name)"
      ],
      "metadata": {
        "colab": {
          "base_uri": "https://localhost:8080/"
        },
        "id": "kZeGfl2RcePx",
        "outputId": "0bd4187b-468d-4f4e-ba52-37e0187e42be"
      },
      "execution_count": null,
      "outputs": [
        {
          "output_type": "stream",
          "name": "stdout",
          "text": [
            "['David', 'Michael', 'John', 'James', 'Hoyoung']\n"
          ]
        }
      ]
    },
    {
      "cell_type": "code",
      "source": [
        "## append()\n",
        "name.append('Jin')\n",
        "print(name)"
      ],
      "metadata": {
        "colab": {
          "base_uri": "https://localhost:8080/"
        },
        "id": "LCxBSfLhdjlI",
        "outputId": "cc091373-0149-40fe-8a09-c3b59abb835a"
      },
      "execution_count": null,
      "outputs": [
        {
          "output_type": "stream",
          "name": "stdout",
          "text": [
            "['David', 'Michael', 'John', 'James', 'Hoyoung', 'Jin']\n"
          ]
        }
      ]
    },
    {
      "cell_type": "code",
      "source": [
        "## remove()\n",
        "name.remove('Jin')\n",
        "print(name)"
      ],
      "metadata": {
        "colab": {
          "base_uri": "https://localhost:8080/"
        },
        "id": "1_U0JWmRdu1I",
        "outputId": "894d6f20-4d9f-4076-d122-db04b2536192"
      },
      "execution_count": null,
      "outputs": [
        {
          "output_type": "stream",
          "name": "stdout",
          "text": [
            "['David', 'Michael', 'John', 'James', 'Hoyoung']\n"
          ]
        }
      ]
    },
    {
      "cell_type": "code",
      "source": [
        "# sorted\n",
        "age.sort()\n",
        "print(age)\n",
        "age.sort(reverse=False)\n",
        "print(age)"
      ],
      "metadata": {
        "colab": {
          "base_uri": "https://localhost:8080/"
        },
        "id": "UUeEY3ZMd7-v",
        "outputId": "435981cd-bb09-4e0c-c36c-0708ce01b40d"
      },
      "execution_count": null,
      "outputs": [
        {
          "output_type": "stream",
          "name": "stdout",
          "text": [
            "[15, 19, 20, 25, 30]\n",
            "[15, 19, 20, 25, 30]\n"
          ]
        }
      ]
    },
    {
      "cell_type": "code",
      "source": [
        "# insert, -1 이 안됨\n",
        "print(age)\n",
        "age.insert(0, 2)\n",
        "print(age)"
      ],
      "metadata": {
        "colab": {
          "base_uri": "https://localhost:8080/"
        },
        "id": "uMdM_XtjeNJs",
        "outputId": "b4b70def-15c6-4208-f491-dfb5ed0995d3"
      },
      "execution_count": null,
      "outputs": [
        {
          "output_type": "stream",
          "name": "stdout",
          "text": [
            "[30, 25, 20, 19, 15]\n",
            "[2, 30, 25, 20, 19, 15]\n"
          ]
        }
      ]
    },
    {
      "cell_type": "code",
      "source": [
        "# pop\n",
        "fruits = ['apple', 'banana', 'orange', 'grape']\n",
        "removed_fruit = fruits.pop(1)  # 'banana' 요소가 제거되고 반환됨\n",
        "\n",
        "print(fruits)           # 출력: ['apple', 'orange', 'grape']\n",
        "print(removed_fruit)    # 출력: 'banana'\n",
        "\n",
        "fruits2 = ['apples', 'bananas', 'oranges', 'grapes']\n",
        "removed_fruit2 = fruits2.pop()  # 마지막 요소 'grape'가 제거되고 반환됨\n",
        "\n",
        "print(fruits2)           # 출력: ['apple', 'banana', 'orange']\n",
        "print(removed_fruit2)    # 출력: 'grape'"
      ],
      "metadata": {
        "colab": {
          "base_uri": "https://localhost:8080/"
        },
        "id": "kka2xD6jgJUA",
        "outputId": "9c070fdf-ef6d-46bb-8b4c-103dfab449e5"
      },
      "execution_count": null,
      "outputs": [
        {
          "output_type": "stream",
          "name": "stdout",
          "text": [
            "['apple', 'orange', 'grape']\n",
            "banana\n",
            "['apples', 'bananas', 'oranges']\n",
            "grapes\n"
          ]
        }
      ]
    },
    {
      "cell_type": "code",
      "source": [
        "name_age_list = [name, age]\n",
        "print(name_age_list)"
      ],
      "metadata": {
        "colab": {
          "base_uri": "https://localhost:8080/"
        },
        "id": "yfecZ3Dag4UQ",
        "outputId": "85628c71-e5a3-449a-e2f4-37542a7535df"
      },
      "execution_count": null,
      "outputs": [
        {
          "output_type": "stream",
          "name": "stdout",
          "text": [
            "[['David', 'Michael', 'John', 'James', 'Hoyoung'], [15, 19, 20, 25, 30]]\n"
          ]
        }
      ]
    },
    {
      "cell_type": "code",
      "source": [
        "name_age_list[0]"
      ],
      "metadata": {
        "colab": {
          "base_uri": "https://localhost:8080/"
        },
        "id": "bd3CxvJfiaHn",
        "outputId": "52c773c8-a25f-497a-fb43-3ea55b62ac48"
      },
      "execution_count": null,
      "outputs": [
        {
          "output_type": "execute_result",
          "data": {
            "text/plain": [
              "['David', 'Michael', 'John', 'James', 'Hoyoung']"
            ]
          },
          "metadata": {},
          "execution_count": 27
        }
      ]
    },
    {
      "cell_type": "code",
      "source": [
        "name_age_list[1][3]"
      ],
      "metadata": {
        "colab": {
          "base_uri": "https://localhost:8080/"
        },
        "id": "NvbgEZQ4pSSu",
        "outputId": "cad94465-98d2-4632-a18e-8d9d81d8cfc2"
      },
      "execution_count": null,
      "outputs": [
        {
          "output_type": "execute_result",
          "data": {
            "text/plain": [
              "25"
            ]
          },
          "metadata": {},
          "execution_count": 42
        }
      ]
    },
    {
      "cell_type": "code",
      "source": [
        "name_age_list[1][0]"
      ],
      "metadata": {
        "colab": {
          "base_uri": "https://localhost:8080/"
        },
        "id": "UYuJWrrjiiHK",
        "outputId": "a234419a-904a-44b5-a251-7eb8ae283780"
      },
      "execution_count": null,
      "outputs": [
        {
          "output_type": "execute_result",
          "data": {
            "text/plain": [
              "2"
            ]
          },
          "metadata": {},
          "execution_count": 63
        }
      ]
    },
    {
      "cell_type": "markdown",
      "source": [
        "## __1. Python Coding과 친해지기 (4)__\n",
        "\n",
        "- 튜플 : 리스트와 유사하지만 데이터 형식은 []이 아니라 ()\n",
        "- 리스트 : 데이터의 추가/수정/삭제 가능\n",
        "- 튜플은 추가/수정/삭제 불가\n",
        "- 집합자료형 (set)\n",
        "  - 튜플과 유사하나 () 형태가 아닌 set()으로 표기\n",
        "  - 특징 : 순서 없음, 중복 안됨\n",
        "\n",
        "| 　             |                   list                  |            tuple            |               set               |\n",
        "|----------------|:---------------------------------------:|:---------------------------:|:-------------------------------:|\n",
        "|      문법      |       number = [20, 25, 30,   35]       | number = (20, 25, 30,   35) | number =set([20, 25,   30, 35]) |\n",
        "| 수정/삭제/추가 | 가능      (append, insert, remove, pop) |            불가능           | 가능      (add, update, remove) |\n",
        "|      순서      |                   있음                  |             있음            |               없음              |\n",
        "|      중복      |                   가능                  |             가능            |              불가능             |"
      ],
      "metadata": {
        "id": "pxeRomo9guGp"
      }
    },
    {
      "cell_type": "code",
      "source": [
        "\n",
        "list_ages = [20, 25, 30, 30]\n",
        "tuple_ages = (20, 25, 30, 30)\n",
        "set_ages = set([20, 25, 30, 30])\n",
        "\n",
        "print(list_ages, type(list_ages))\n",
        "print(tuple_ages, type(tuple_ages))\n",
        "print(set_ages, type(set_ages))"
      ],
      "metadata": {
        "id": "TrvaFxPvk0nH",
        "colab": {
          "base_uri": "https://localhost:8080/"
        },
        "outputId": "84f70c44-09ad-404d-af57-9b3f374a4395"
      },
      "execution_count": null,
      "outputs": [
        {
          "output_type": "stream",
          "name": "stdout",
          "text": [
            "[20, 25, 30, 30] <class 'list'>\n",
            "(20, 25, 30, 30) <class 'tuple'>\n",
            "{25, 20, 30} <class 'set'>\n"
          ]
        }
      ]
    },
    {
      "cell_type": "code",
      "source": [
        "print(list_ages[0])"
      ],
      "metadata": {
        "colab": {
          "base_uri": "https://localhost:8080/"
        },
        "id": "b9n6ADMuoiHv",
        "outputId": "395fd1f4-bcf7-41c4-e65b-8ac71d01a83b"
      },
      "execution_count": null,
      "outputs": [
        {
          "output_type": "stream",
          "name": "stdout",
          "text": [
            "20\n"
          ]
        }
      ]
    },
    {
      "cell_type": "code",
      "source": [
        "print(tuple_ages[0])"
      ],
      "metadata": {
        "colab": {
          "base_uri": "https://localhost:8080/"
        },
        "id": "kErlzpvwoyY9",
        "outputId": "ffc749c4-d041-4267-cc44-deb30cf76211"
      },
      "execution_count": null,
      "outputs": [
        {
          "output_type": "stream",
          "name": "stdout",
          "text": [
            "20\n"
          ]
        }
      ]
    },
    {
      "cell_type": "code",
      "source": [
        "# # 순서가 없음\n",
        "\n",
        "# print(set_age[0])"
      ],
      "metadata": {
        "id": "tVgE0pvWo0jY"
      },
      "execution_count": null,
      "outputs": []
    },
    {
      "cell_type": "code",
      "source": [
        "# 리스트의 여집합 측정하기\n",
        "\n",
        "list1 =  ['도요타', '혼다', '포드', '김정은', '돼지']\n",
        "list2 = ['포드','현대차', '기아차', '테슬라', '김정은', '돼지', '김정은', '돼지']\n",
        "\n",
        "result = set(list1) - set(list2)\n",
        "print(result)\n",
        "\n",
        "# 리스트 형태 전환은 chat GPT로 변환한다"
      ],
      "metadata": {
        "colab": {
          "base_uri": "https://localhost:8080/"
        },
        "id": "e5pIuCx_o6LD",
        "outputId": "64800305-b6e4-4171-ed24-9fb92c931b12"
      },
      "execution_count": null,
      "outputs": [
        {
          "output_type": "stream",
          "name": "stdout",
          "text": [
            "{'혼다', '도요타'}\n"
          ]
        }
      ]
    },
    {
      "cell_type": "markdown",
      "source": [
        "## __1. Python Coding과 친해지기 (5)__\n",
        "\n",
        "- 딕셔너리 자료형\n"
      ],
      "metadata": {
        "id": "n5SFPa9ru8f6"
      }
    },
    {
      "cell_type": "code",
      "source": [
        "student_scores = { 'name' : ['Alice', 'Bob', 'Carol', 'David'] , 'english' : [95, 87, 75, 92] }\n",
        "print(student_scores )\n",
        "print(type(student_scores))"
      ],
      "metadata": {
        "colab": {
          "base_uri": "https://localhost:8080/"
        },
        "id": "Nrci4xr8thO9",
        "outputId": "64d908ed-aec9-4a75-d2bf-1ad7e21292cd"
      },
      "execution_count": null,
      "outputs": [
        {
          "output_type": "stream",
          "name": "stdout",
          "text": [
            "{'name': ['Alice', 'Bob', 'Carol', 'David'], 'english': [95, 87, 75, 92]}\n",
            "<class 'dict'>\n"
          ]
        }
      ]
    },
    {
      "cell_type": "code",
      "source": [
        "student_scores['math'] = [85, 80, 97, 80]\n",
        "print(student_scores)"
      ],
      "metadata": {
        "colab": {
          "base_uri": "https://localhost:8080/"
        },
        "id": "VTcTVt5svoIr",
        "outputId": "90cba2fc-6b80-4988-80b0-89e668560cf9"
      },
      "execution_count": null,
      "outputs": [
        {
          "output_type": "stream",
          "name": "stdout",
          "text": [
            "{'name': ['Alice', 'Bob', 'Carol', 'David'], 'english': [95, 87, 75, 92], 'math': [85, 80, 97, 80]}\n"
          ]
        }
      ]
    },
    {
      "cell_type": "code",
      "source": [
        "del student_scores['math']\n",
        "print(student_scores)"
      ],
      "metadata": {
        "colab": {
          "base_uri": "https://localhost:8080/"
        },
        "id": "IctkLqxxvrnI",
        "outputId": "b639e1f5-eaea-4fad-a5ae-803aa4d56c25"
      },
      "execution_count": null,
      "outputs": [
        {
          "output_type": "stream",
          "name": "stdout",
          "text": [
            "{'name': ['Alice', 'Bob', 'Carol', 'David'], 'english': [95, 87, 75, 92]}\n"
          ]
        }
      ]
    },
    {
      "cell_type": "code",
      "source": [
        "for key, value in student_scores.items():\n",
        "  print(key, value)"
      ],
      "metadata": {
        "colab": {
          "base_uri": "https://localhost:8080/"
        },
        "id": "3513HOe0vuV-",
        "outputId": "8e4a179e-8945-44bb-bd08-9d6264a3f63d"
      },
      "execution_count": null,
      "outputs": [
        {
          "output_type": "stream",
          "name": "stdout",
          "text": [
            "name ['Alice', 'Bob', 'Carol', 'David']\n",
            "english [95, 87, 75, 92]\n"
          ]
        }
      ]
    },
    {
      "cell_type": "code",
      "source": [
        "value"
      ],
      "metadata": {
        "colab": {
          "base_uri": "https://localhost:8080/"
        },
        "id": "_-4lU7gJxlu7",
        "outputId": "27756d78-eb3f-495e-859e-1d33c060dda5"
      },
      "execution_count": null,
      "outputs": [
        {
          "output_type": "execute_result",
          "data": {
            "text/plain": [
              "[95, 87, 75, 92]"
            ]
          },
          "metadata": {},
          "execution_count": 51
        }
      ]
    },
    {
      "cell_type": "code",
      "source": [
        "import time\n",
        "\n",
        "for key, value in student_scores.items():\n",
        "  print(key, value)\n",
        "  time.sleep(10)"
      ],
      "metadata": {
        "colab": {
          "base_uri": "https://localhost:8080/"
        },
        "id": "wedvA4hawCal",
        "outputId": "f03806e5-26c1-4d83-f421-f7e851bfa892"
      },
      "execution_count": null,
      "outputs": [
        {
          "output_type": "stream",
          "name": "stdout",
          "text": [
            "name ['Alice', 'Bob', 'Carol', 'David']\n",
            "english [95, 87, 75, 92]\n"
          ]
        }
      ]
    },
    {
      "cell_type": "code",
      "source": [
        "print('name', \"['Susan', 'Jessica', 'John', 'Michael']\")\n",
        "print('age', \"[19, 15, 17, 13, 12]\")\n",
        "print()"
      ],
      "metadata": {
        "colab": {
          "base_uri": "https://localhost:8080/"
        },
        "id": "jMU4jv9nwFH_",
        "outputId": "2c9b2683-fdf7-4814-d7b7-64643b051ae9"
      },
      "execution_count": null,
      "outputs": [
        {
          "output_type": "stream",
          "name": "stdout",
          "text": [
            "name ['Susan', 'Jessica', 'John', 'Michael']\n",
            "age [19, 15, 17, 13, 12]\n",
            "\n"
          ]
        }
      ]
    },
    {
      "cell_type": "code",
      "source": [
        "contacts = {\n",
        "    \"Alice\": {\n",
        "        \"phone\": \"123-456-7890\",\n",
        "        \"email\": \"alice@example.com\"\n",
        "    },\n",
        "    \"Bob\": {\n",
        "        \"phone\": \"987-654-3210\",\n",
        "        \"email\": \"bob@example.com\"\n",
        "    }\n",
        "}"
      ],
      "metadata": {
        "id": "XbWxCQnOx2_G"
      },
      "execution_count": null,
      "outputs": []
    },
    {
      "cell_type": "code",
      "source": [
        "#contacts\n",
        "empty_dict = {}\n",
        "\n",
        "for key, value in contacts.items():\n",
        "    print(key, value)"
      ],
      "metadata": {
        "colab": {
          "base_uri": "https://localhost:8080/"
        },
        "id": "t5YvGNhTx3lU",
        "outputId": "80668456-e139-496a-f638-5e6a6ed79afc"
      },
      "execution_count": null,
      "outputs": [
        {
          "output_type": "stream",
          "name": "stdout",
          "text": [
            "Alice {'phone': '123-456-7890', 'email': 'alice@example.com'}\n",
            "Bob {'phone': '987-654-3210', 'email': 'bob@example.com'}\n"
          ]
        }
      ]
    },
    {
      "cell_type": "code",
      "source": [
        "alice_phone = contacts[\"Alice\"][\"phone\"]\n",
        "alice_email = contacts[\"Alice\"][\"email\"]\n",
        "\n",
        "bob_phone = contacts[\"Bob\"][\"phone\"]\n",
        "bob_email = contacts[\"Bob\"][\"email\"]\n",
        "\n",
        "print(\"Alice's phone:\", alice_phone)\n",
        "print(\"Alice's email:\", alice_email)\n",
        "print(\"Bob's phone:\", bob_phone)\n",
        "print(\"Bob's email:\", bob_email)"
      ],
      "metadata": {
        "colab": {
          "base_uri": "https://localhost:8080/"
        },
        "id": "-Uea_kw2ysUh",
        "outputId": "86dff922-678f-4da0-96ef-aede176841ce"
      },
      "execution_count": null,
      "outputs": [
        {
          "output_type": "stream",
          "name": "stdout",
          "text": [
            "Alice's phone: 123-456-7890\n",
            "Alice's email: alice@example.com\n",
            "Bob's phone: 987-654-3210\n",
            "Bob's email: bob@example.com\n"
          ]
        }
      ]
    },
    {
      "cell_type": "markdown",
      "source": [
        "## __2. 명령문 for 와 if__\n",
        "\n",
        "- for 명령어"
      ],
      "metadata": {
        "id": "584SJUqJ-q18"
      }
    },
    {
      "cell_type": "code",
      "source": [
        "text  = \"Programming\"\n",
        "\n",
        "for x in text:\n",
        "  print(x,  end = '  ')\n"
      ],
      "metadata": {
        "colab": {
          "base_uri": "https://localhost:8080/"
        },
        "id": "s4gpLgzm-5Ur",
        "outputId": "e441c9b1-30c6-4b99-be28-3e9483a2e0d4"
      },
      "execution_count": null,
      "outputs": [
        {
          "output_type": "stream",
          "name": "stdout",
          "text": [
            "P  r  o  g  r  a  m  m  i  n  g  "
          ]
        }
      ]
    },
    {
      "cell_type": "code",
      "source": [
        "total = 0\n",
        "\n",
        "for num in [2, -3, 0, 17, 8]:\n",
        "    total = total + num\n",
        "print(total)"
      ],
      "metadata": {
        "colab": {
          "base_uri": "https://localhost:8080/"
        },
        "id": "JaZEA4hS_03s",
        "outputId": "d5666bc5-5142-4a10-af20-09512ac426d1"
      },
      "execution_count": null,
      "outputs": [
        {
          "output_type": "stream",
          "name": "stdout",
          "text": [
            "24\n"
          ]
        }
      ]
    },
    {
      "cell_type": "markdown",
      "source": [
        "- 내장함수 range, zip,  enumerate"
      ],
      "metadata": {
        "id": "Y6XjxBMuCIUT"
      }
    },
    {
      "cell_type": "code",
      "source": [
        "n = 10\n",
        "\n",
        "for num in range(n):\n",
        "\n",
        "  print(num, end = '  ')"
      ],
      "metadata": {
        "colab": {
          "base_uri": "https://localhost:8080/"
        },
        "id": "e1lri1jHB8t-",
        "outputId": "87431bb5-9cd0-4a49-aa36-10db7290b979"
      },
      "execution_count": null,
      "outputs": [
        {
          "output_type": "stream",
          "name": "stdout",
          "text": [
            "0  1  2  3  4  5  6  7  8  9  "
          ]
        }
      ]
    },
    {
      "cell_type": "code",
      "source": [
        "start = 5\n",
        "end = 10\n",
        "\n",
        "for num in range(start, end):\n",
        "\n",
        "  print(num, end = '  ')"
      ],
      "metadata": {
        "colab": {
          "base_uri": "https://localhost:8080/"
        },
        "id": "GZG-MKi_FCwF",
        "outputId": "d3c93e12-2150-4143-ee76-28956bc46012"
      },
      "execution_count": null,
      "outputs": [
        {
          "output_type": "stream",
          "name": "stdout",
          "text": [
            "5  6  7  8  9  "
          ]
        }
      ]
    },
    {
      "cell_type": "code",
      "source": [
        "start = 5\n",
        "end = 20\n",
        "jump = 2\n",
        "\n",
        "for num in range(start, end, jump):\n",
        "\n",
        "  print(num, end = '  ')"
      ],
      "metadata": {
        "colab": {
          "base_uri": "https://localhost:8080/"
        },
        "id": "HABPOddbFSC7",
        "outputId": "fb983c7d-0f61-4333-d493-385698cb7039"
      },
      "execution_count": null,
      "outputs": [
        {
          "output_type": "stream",
          "name": "stdout",
          "text": [
            "5  7  9  11  13  15  17  19  "
          ]
        }
      ]
    },
    {
      "cell_type": "code",
      "source": [
        "names = ['Alice', 'Bob', 'Charlie']\n",
        "scores = [85, 90, 75]\n",
        "\n",
        "for name, score in zip(names, scores):\n",
        "    print(f'{name}의 점수는 {score}입니다.')\n",
        "    list.append((name,score))"
      ],
      "metadata": {
        "colab": {
          "base_uri": "https://localhost:8080/"
        },
        "id": "GK9QUsBCDTwm",
        "outputId": "e32fda2f-936d-4232-95e7-c37b7da5df8e"
      },
      "execution_count": null,
      "outputs": [
        {
          "output_type": "stream",
          "name": "stdout",
          "text": [
            "Alice의 점수는 85입니다.\n",
            "Bob의 점수는 90입니다.\n",
            "Charlie의 점수는 75입니다.\n"
          ]
        }
      ]
    },
    {
      "cell_type": "code",
      "source": [
        "my_list = ['apple', 'banana', 'cherry']\n",
        "\n",
        "for index, item in enumerate(my_list):\n",
        "    print(f'Index {index}: {item}')"
      ],
      "metadata": {
        "colab": {
          "base_uri": "https://localhost:8080/"
        },
        "id": "U6oUB8DSElvH",
        "outputId": "4baf45b5-5115-4f4b-ab3a-1bc39be82d7d"
      },
      "execution_count": null,
      "outputs": [
        {
          "output_type": "stream",
          "name": "stdout",
          "text": [
            "Index 0: apple\n",
            "Index 1: banana\n",
            "Index 2: cherry\n"
          ]
        }
      ]
    },
    {
      "cell_type": "code",
      "source": [
        "# 간단한 복리 이자문제\n",
        "\n",
        "principal = 1000\n",
        "rate = 0.12\n",
        "amount = 0\n",
        "\n",
        "for year in range(1, 11):\n",
        "\n",
        "    amount = principal * (1+rate)**year\n",
        "    amount = round(amount, 2)\n",
        "    print(f'{year}년_{amount}')"
      ],
      "metadata": {
        "colab": {
          "base_uri": "https://localhost:8080/"
        },
        "id": "1DxG0MdwFt32",
        "outputId": "8a7372ac-31fd-4290-d2f3-63a974bdbef7"
      },
      "execution_count": null,
      "outputs": [
        {
          "output_type": "stream",
          "name": "stdout",
          "text": [
            "1년_1120.0\n",
            "2년_1254.4\n",
            "3년_1404.93\n",
            "4년_1573.52\n",
            "5년_1762.34\n",
            "6년_1973.82\n",
            "7년_2210.68\n",
            "8년_2475.96\n",
            "9년_2773.08\n",
            "10년_3105.85\n"
          ]
        }
      ]
    },
    {
      "cell_type": "markdown",
      "source": [
        "- 이중 for 문 구조 : for 와 range 를 사용한 구구단 만들기"
      ],
      "metadata": {
        "id": "bu1uGND3Qz7A"
      }
    },
    {
      "cell_type": "code",
      "source": [
        "for i in range (2,10):\n",
        "\n",
        "    for j in range(1,10):\n",
        "\n",
        "       print(i*j, end = ' ')\n",
        "\n",
        "    print(' ')\n",
        "    # 매개변수 ' '를 넣어준 이유는 해당 결과값을 출력할 때 다음 줄로 넘어가지 않고 그 줄로 계속 출력하기 위함\n",
        "    # 그 다음에 이어지는 print(' ')는 2단, 3단 등을 구분하기 위해서 두 번째 for 문이 끝나면 결과값을 다음 줄 부터 출력 시키는 문장"
      ],
      "metadata": {
        "id": "PxeB155XGV81",
        "colab": {
          "base_uri": "https://localhost:8080/"
        },
        "outputId": "98242eac-0501-432d-cb02-7258a2966ddf"
      },
      "execution_count": null,
      "outputs": [
        {
          "output_type": "stream",
          "name": "stdout",
          "text": [
            "2 4 6 8 10 12 14 16 18  \n",
            "3 6 9 12 15 18 21 24 27  \n",
            "4 8 12 16 20 24 28 32 36  \n",
            "5 10 15 20 25 30 35 40 45  \n",
            "6 12 18 24 30 36 42 48 54  \n",
            "7 14 21 28 35 42 49 56 63  \n",
            "8 16 24 32 40 48 56 64 72  \n",
            "9 18 27 36 45 54 63 72 81  \n"
          ]
        }
      ]
    },
    {
      "cell_type": "markdown",
      "source": [
        "- 리스트 안에 for문을 포함하는 list comprehension 를 사용하면 직관적인 코딩 가능"
      ],
      "metadata": {
        "id": "QtWbw1fVSlWA"
      }
    },
    {
      "cell_type": "code",
      "source": [
        "a = [1, 2, 3, 4, 5]\n",
        "\n",
        "result = [num*4 for num in a ]\n",
        "\n",
        "print(result)"
      ],
      "metadata": {
        "colab": {
          "base_uri": "https://localhost:8080/"
        },
        "id": "xdOdAfqxQzLU",
        "outputId": "99346cda-83b3-4612-a5aa-8dab3be66e54"
      },
      "execution_count": null,
      "outputs": [
        {
          "output_type": "stream",
          "name": "stdout",
          "text": [
            "[4, 8, 12, 16, 20]\n"
          ]
        }
      ]
    },
    {
      "cell_type": "code",
      "source": [
        "b = [1, 2, 3, 4, 5, 6]\n",
        "\n",
        "result = [num *3 for num in b if num % 2 == 0]\n",
        "\n",
        "print(result)"
      ],
      "metadata": {
        "colab": {
          "base_uri": "https://localhost:8080/"
        },
        "id": "GyzwXvtoRdph",
        "outputId": "2a2d9428-bae5-46b5-aba8-617d1a868e6b"
      },
      "execution_count": null,
      "outputs": [
        {
          "output_type": "stream",
          "name": "stdout",
          "text": [
            "[6, 12, 18]\n"
          ]
        }
      ]
    },
    {
      "cell_type": "markdown",
      "source": [
        "- if 문의 기본적인 구조\n",
        "\n",
        "<img src = 'https://drive.google.com/uc?id=119nd-7d6zASmY8PS_4LIWcpWdcHQUJh_' height = 500 width = 600>\n",
        "</center>\n",
        "\n",
        "  -  출처 : jump to 파이썬 (박응용 저)\n",
        "\n",
        "if 조건문:\n",
        "    수행할 명령문1\n",
        "    수행햘 명령문2\n",
        "\n",
        "else 조건문:\n",
        "    수행할 명령문1\n",
        "    수행할 명령문2\n",
        "\n",
        "\n",
        "- if 조건문에서 '조건문'이란 주어진 조건의 참과 거짓을 판단하는 명령문장\n",
        "\n",
        "- 비교 연산자\n",
        "\n",
        "<table style=\"width:50%; margin:auto;\">\n",
        "  <tr>\n",
        "    <th style=\"text-align:center;\">비교연산자</th>\n",
        "    <th style=\"text-align:center;\">내용</th>\n",
        "  </tr>\n",
        "  <tr>\n",
        "    <td style=\"text-align:center;\">a == b</td>\n",
        "    <td style=\"text-align:center;\">a와 b가 같다</td>\n",
        "  </tr>\n",
        "  <tr>\n",
        "    <td style=\"text-align:center;\">a != b</td>\n",
        "    <td style=\"text-align:center;\">a와 b가 다르다</td>\n",
        "  </tr>\n",
        "  <tr>\n",
        "    <td style=\"text-align:center;\">a > b</td>\n",
        "    <td style=\"text-align:center;\">a가 b 보다 크다</td>\n",
        "  </tr>\n",
        "  <tr>\n",
        "    <td style=\"text-align:center;\">a < b</td>\n",
        "    <td style=\"text-align:center;\">a가 b 보다 작다</td>\n",
        "  </tr>\n",
        "  <tr>\n",
        "    <td style=\"text-align:center;\">a >= b</td>\n",
        "    <td style=\"text-align:center;\">a가 b 보다 크거나 같다</td>\n",
        "  </tr>\n",
        "  <tr>\n",
        "    <td style=\"text-align:center;\">a <= b</td>\n",
        "    <td style=\"text-align:center;\">a가 b 보다 작거나 같다</td>\n",
        "  </tr>\n",
        "</table>\n",
        "\n",
        "\n",
        "- 수학 연산자\n",
        "<table style=style=\"width:50%; margin:auto;\">\n",
        "  <tr>\n",
        "    <th style=\"text-align:center;\">수학연산자</th>\n",
        "    <th style=\"text-align:center;\">내용</th>\n",
        "  </tr>\n",
        "  <tr>\n",
        "    <td style=\"text-align:center;\"> = </td>\n",
        "    <td style=\"text-align:center;\"> 할당 </td>\n",
        "  </tr>\n",
        "  <tr>\n",
        "    <td style=\"text-align:center;\"> + </td>\n",
        "    <td style=\"text-align:center;\"> 더하기 </td>\n",
        "  </tr>\n",
        "  <tr>\n",
        "    <td style=\"text-align:center;\"> - </td>\n",
        "    <td style=\"text-align:center;\"> 빼기 </td>\n",
        "  </tr>\n",
        "  <tr>\n",
        "    <td style=\"text-align:center;\"> += </td>\n",
        "    <td style=\"text-align:center;\"> 증가 </td>\n",
        "  </tr>\n",
        "  <tr>\n",
        "    <td style=\"text-align:center;\"> -= </td>\n",
        "    <td style=\"text-align:center;\"> 감소 </td>\n",
        "  </tr>\n",
        "  <tr>\n",
        "    <td style=\"text-align:center;\"> * </td>\n",
        "    <td style=\"text-align:center;\"> 곱하기 </td>\n",
        "  </tr>\n",
        "  <tr>\n",
        "    <td style=\"text-align:center;\"> / </td>\n",
        "    <td style=\"text-align:center;\"> 나누기 </td>\n",
        "  </tr>\n",
        "  <tr>\n",
        "    <td style=\"text-align:center;\"> % </td>\n",
        "    <td style=\"text-align:center;\"> 나머지 </td>\n",
        "  </tr>\n",
        "  <tr>\n",
        "    <td style=\"text-align:center;\"> ** </td>\n",
        "    <td style=\"text-align:center;\"> 지수승 </td>\n",
        "  </tr>\n",
        "</table>\n"
      ],
      "metadata": {
        "id": "JjEroR8dUt_L"
      }
    },
    {
      "cell_type": "code",
      "source": [
        "# 사용자로부터 숫자를 입력받습니다.\n",
        "num = int(input(\"숫자를 입력하세요: \"))\n",
        "\n",
        "# if 문을 사용하여 조건을 확인합니다.\n",
        "if num > 0:\n",
        "    print(\"입력한 숫자는 양수입니다.\")\n",
        "elif num == 0:\n",
        "    print(\"입력한 숫자는 0입니다.\")\n",
        "else:\n",
        "    print(\"입력한 숫자는 음수입니다.\")"
      ],
      "metadata": {
        "colab": {
          "base_uri": "https://localhost:8080/"
        },
        "id": "tZag0S16TuKe",
        "outputId": "21e713b1-f002-4525-8840-05729fd7f4e4"
      },
      "execution_count": null,
      "outputs": [
        {
          "output_type": "stream",
          "name": "stdout",
          "text": [
            "숫자를 입력하세요: 50\n",
            "입력한 숫자는 양수입니다.\n"
          ]
        }
      ]
    },
    {
      "cell_type": "code",
      "source": [
        "# 단어 리스트\n",
        "words = ['apple', 'banana', 'cherry', 'grape', 'orange', 'kiwi', 'melon', 'strawberry', 'peach', 'plum']\n",
        "\n",
        "# 단어가 리스트에 있는지 확인\n",
        "if 'banana' in words:\n",
        "    print(\"단어 'banana'이 리스트에 있습니다.\")\n",
        "else:\n",
        "    print(\"단어 'banana'이 리스트에 없습니다.\")\n",
        "\n",
        "# 단어가 리스트에 없는지 확인\n",
        "if 'pineapple' not in words:\n",
        "    print(\"단어 'pineapple'은 리스트에 없습니다.\")\n",
        "else:\n",
        "    print(\"단어 'pineapple'은 리스트에 있습니다.\")"
      ],
      "metadata": {
        "colab": {
          "base_uri": "https://localhost:8080/"
        },
        "id": "jL2vm-WEWGBP",
        "outputId": "ecc4b7c6-b1bb-4b63-b0a9-63d8a0097dbc"
      },
      "execution_count": null,
      "outputs": [
        {
          "output_type": "stream",
          "name": "stdout",
          "text": [
            "단어 'banana'이 리스트에 있습니다.\n",
            "단어 'pineapple'은 리스트에 없습니다.\n"
          ]
        }
      ]
    },
    {
      "cell_type": "code",
      "source": [
        "# if와 for 문을 이용해서 특정 요소 추출하기 (중요)\n",
        "\n",
        "fruits = ['apple', 'banana', 'cherry', 'grape', 'orange', 'kiwi', 'melon', 'strawberry', 'peach', 'plum']\n",
        "\n",
        "target_list = []\n",
        "notarget_list = []\n",
        "\n",
        "for fruit in fruits:\n",
        "\n",
        "    if 'a' in fruit:\n",
        "        target_list.append(fruit)\n",
        "    else:\n",
        "        notarget_list.append(fruit)"
      ],
      "metadata": {
        "id": "E6A1kYizfHZx"
      },
      "execution_count": null,
      "outputs": []
    },
    {
      "cell_type": "code",
      "source": [
        "# list comprehension\n",
        "\n",
        "test_list =  [fruit for fruit in fruits if 'a' in fruit]"
      ],
      "metadata": {
        "id": "UM7_WJgHgeHO"
      },
      "execution_count": null,
      "outputs": []
    },
    {
      "cell_type": "code",
      "source": [
        "# 홀수 짝수 구문\n",
        "data = [1, 2, 3, 4, 5, 6, 7, 8, 9, 10]\n",
        "\n",
        "# 짝수를 담을 빈 리스트 생성\n",
        "even_numbers = []\n",
        "\n",
        "# for 루프를 통해 데이터 탐색\n",
        "for num in data:\n",
        "    if num % 2 == 0:  # 만약 숫자가 2로 나누어 떨어지면\n",
        "        even_numbers.append(num)  # 짝수 리스트에 추가\n",
        "\n",
        "# 결과 출력\n",
        "print(\"짝수:\", even_numbers)"
      ],
      "metadata": {
        "colab": {
          "base_uri": "https://localhost:8080/"
        },
        "id": "zjoO0vTfHTvv",
        "outputId": "ba6ff58a-03bd-4380-db30-fc30947364e8"
      },
      "execution_count": null,
      "outputs": [
        {
          "output_type": "stream",
          "name": "stdout",
          "text": [
            "짝수: [2, 4, 6, 8, 10]\n"
          ]
        }
      ]
    },
    {
      "cell_type": "code",
      "source": [
        "## 1 부터 10까지 합 구하기\n",
        "\n",
        "sum_num = 0\n",
        "\n",
        "for i in range(1,11):\n",
        "\n",
        "  sum_num = sum_num + i\n",
        "\n",
        "print(sum_num)"
      ],
      "metadata": {
        "colab": {
          "base_uri": "https://localhost:8080/"
        },
        "id": "RVnosYXmNWSw",
        "outputId": "d84e1e6d-88cb-43cf-e694-5769c47b8d49"
      },
      "execution_count": null,
      "outputs": [
        {
          "output_type": "stream",
          "name": "stdout",
          "text": [
            "55\n"
          ]
        }
      ]
    },
    {
      "cell_type": "code",
      "source": [
        "list1 = [90, 85, 70, 55]\n",
        "list2 = ['a', 'b', 'c', 'd']\n",
        "\n",
        "result_list = []\n",
        "\n",
        "for element1, element2 in zip(list1, list2):\n",
        "    result_list.append((element1, element2))\n",
        "\n",
        "df = pd.DataFrame(result_list, columns=['학점', '성명'])"
      ],
      "metadata": {
        "id": "GufSg_gsOfOs"
      },
      "execution_count": null,
      "outputs": []
    },
    {
      "cell_type": "markdown",
      "source": [
        "## Q1) for 문을 사용하여 A학급 평균 점수를 구해 보자\n",
        "\n",
        "[70, 60, 55, 76, 95, 90, 80, 80, 88, 100, 75, 89]\n",
        "\n",
        "## Q2) list 중에서 홀수에만 3을 곱하여 저장하는 코드를 작성해 보자\n",
        "\n",
        "numbers = [1, 2, 3, 4, 5]\n",
        "\n",
        "## Q3) 위의 코드를 list Comprehension 를 사용하여 표현해 보자\n",
        "\n",
        "## Q4) 최근 한달간 삼성전자 주가 리스트 (예시) 를 이용하여 주가 6만원 이상인 가격만을 추출해 보자\n",
        "\n",
        "samsung_stock_prices = [59000, 61000, 59000, 62000, 63000, 59000, 60000, 61000, 58000, 62000]\n",
        "\n",
        "\n"
      ],
      "metadata": {
        "id": "gMa49HQDh8xt"
      }
    },
    {
      "cell_type": "code",
      "source": [],
      "metadata": {
        "id": "SrthlWbqkJgx"
      },
      "execution_count": null,
      "outputs": []
    }
  ]
}