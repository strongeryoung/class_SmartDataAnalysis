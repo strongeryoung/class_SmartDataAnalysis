{
  "cells": [
    {
      "cell_type": "markdown",
      "metadata": {
        "id": "view-in-github",
        "colab_type": "text"
      },
      "source": [
        "<a href=\"https://colab.research.google.com/github/strongeryoung/class_SmartDataAnalysis/blob/main/BOK_API.ipynb\" target=\"_parent\"><img src=\"https://colab.research.google.com/assets/colab-badge.svg\" alt=\"Open In Colab\"/></a>"
      ]
    },
    {
      "cell_type": "markdown",
      "metadata": {
        "id": "uOgQEorSYyVp"
      },
      "source": [
        "#1. What is BOK API?\n",
        "\n",
        "- 한국은행 API는 ...\n",
        "\n",
        "한국은행 API 서비스는 한국은행이 제공하는 개방형 API(Open API) 서비스를 말합니다. 이 API는 한국은행이 보유하고 있는 다양한 경제 통계 및 금융 데이터를 개발자들이 활용할 수 있도록 제공하는 것을 목적으로 합니다.\n",
        "\n",
        "주요 기능과 데이터에는 다음과 같은 것들이 포함될 수 있습니다:\n",
        "\n",
        "1. **경제 통계 데이터**: GDP, 소비자 물가지수, 수출입 등과 같은 경제 지표에 대한 데이터를 제공합니다.\n",
        "\n",
        "2. **금융 시장 데이터**: 환율, 금리, 주가 지수 등과 같은 금융 시장에 관련된 데이터를 포함합니다.\n",
        "\n",
        "3. **통화 정보**: 원/달러 환율 등 다양한 통화 관련 정보를 제공합니다.\n",
        "\n",
        "4. **금융 통계 데이터**: 은행, 증권, 보험 등 금융 기관의 통계 정보를 포함합니다.\n",
        "\n",
        "5. **기타 데이터**: 소비자 동향, 산업 생산 지표 등 다양한 경제와 금융에 관련된 데이터를 제공할 수 있습니다.\n",
        "\n",
        "한국은행 API 서비스를 사용하려면 일반적으로 해당 서비스에 등록하고 API 키를 발급받아야 합니다. 이 API를 사용하면 개발자들은 한국의 경제와 금융 데이터를 활용하여 다양한 애플리케이션을 개발하거나 분석에 활용할 수 있습니다.\n",
        "\n",
        "\n",
        "- 한국은행 외에 다른 국가의 경제통계 API\n",
        "\n",
        "\n",
        "1. **미국 (Federal Reserve Economic Data - FRED)**: 미국 연방준비은행이 제공하는 FRED는 미국의 경제 데이터를 제공하는 서비스입니다. 이 서비스를 통해 GDP, 실업률, 소비자 가격 지수 등 다양한 경제 지표에 접근할 수 있습니다.\n",
        "\n",
        "2. **유럽 연합 (Eurostat)**: 유럽 연합 통계청인 Eurostat은 유럽 국가들의 다양한 경제, 사회 및 환경 데이터를 제공합니다.\n",
        "\n",
        "3. **일본 (e-Stat)**: 일본 통계청이 운영하는 e-Stat은 일본의 다양한 통계 데이터를 제공합니다.\n",
        "\n",
        "4. **캐나다 (Statistics Canada)**: 캐나다 통계청은 다양한 경제, 사회, 환경 데이터를 제공합니다.\n",
        "\n",
        "5. **호주 (Australian Bureau of Statistics)**: 호주 통계청은 호주의 다양한 경제 및 사회 통계를 제공합니다.\n",
        "\n",
        "6. **중국 (National Bureau of Statistics of China)**: 중국 통계청은 중국의 다양한 통계 데이터를 제공합니다.\n"
      ]
    },
    {
      "cell_type": "markdown",
      "metadata": {
        "id": "d8hUyBDsYydO"
      },
      "source": [
        "\n",
        "## 1. 인증번호 신청 단계\n",
        "\n",
        "<img src = 'https://drive.google.com/uc?id=1sRMSgW3U769Bei5TPA17YNvME5vcMUZZ' height = 500 width = 700>\n",
        "</center>\n",
        "\n",
        "\n",
        "<img src = 'https://drive.google.com/uc?id=1DaMqNjSCFVZ4-UzkaEcs5LRbK7oRVGBr' height = 500 width = 700>\n",
        "</center>\n",
        "\n",
        "\n",
        "<img src = 'https://drive.google.com/uc?id=1oEFmpW8Hnvy_ZOvfp5PTgdZt-jW43Fdc' height = 500 width = 700>\n",
        "</center>\n",
        "\n",
        "\n",
        "<img src = 'https://drive.google.com/uc?id=1YR4s8duqyTgCoFtxDHdkTx61KMdV6hmS' height = 500 width = 700>\n",
        "</center>\n",
        "\n",
        "## 2. 수집 데이터의 통계코드 및 제공주기 파악\n",
        "\n",
        "<img src = 'https://drive.google.com/uc?id=1nyywpYFaslYSyEuvuN4ArGKUDxa5Drxl' height = 500 width = 700>\n",
        "</center>\n",
        "\n",
        "\n",
        "<img src = 'https://drive.google.com/uc?id=12C7Xi-T9wd5e8zM0JI63UwxBmX8Imjae' height = 500 width = 700>\n",
        "</center>\n",
        "\n",
        "\n",
        "\n"
      ]
    },
    {
      "cell_type": "code",
      "execution_count": null,
      "metadata": {
        "id": "NahKHvYrVW0H"
      },
      "outputs": [],
      "source": [
        "from google.colab import drive\n",
        "drive.mount('/content/drive')"
      ]
    },
    {
      "cell_type": "code",
      "execution_count": null,
      "metadata": {
        "id": "oYCmzM2PYvXD"
      },
      "outputs": [],
      "source": [
        "import requests\n",
        "import json\n",
        "import pandas as pd\n",
        "import matplotlib.pyplot as plt\n",
        "from datetime import date, timedelta, datetime\n",
        "\n",
        "import os\n",
        "# 본인의 경로를 인식 시킨다 !!! (중요)\n",
        "# os.chdir('/content/drive/MyDrive/정찬호')"
      ]
    },
    {
      "cell_type": "markdown",
      "metadata": {
        "id": "rZv0_IUMZpVb"
      },
      "source": [
        "## 3. BOK API Data Importing\n",
        "\n",
        "- 우리나라 만기별 국채, 회사채 금리 수집"
      ]
    },
    {
      "cell_type": "code",
      "execution_count": null,
      "metadata": {
        "id": "8ZV9L7CWelsb",
        "colab": {
          "base_uri": "https://localhost:8080/",
          "height": 147
        },
        "outputId": "ee2e79a6-b981-41a5-e732-dcfd6525fdfb"
      },
      "outputs": [
        {
          "output_type": "error",
          "ename": "SyntaxError",
          "evalue": "ignored",
          "traceback": [
            "\u001b[0;36m  File \u001b[0;32m\"<ipython-input-4-4ad09953f6f7>\"\u001b[0;36m, line \u001b[0;32m1\u001b[0m\n\u001b[0;31m    import KEYS('TEW8YYFCUMQVVXGRQQT3')\u001b[0m\n\u001b[0m               ^\u001b[0m\n\u001b[0;31mSyntaxError\u001b[0m\u001b[0;31m:\u001b[0m invalid syntax\n"
          ]
        }
      ],
      "source": []
    },
    {
      "cell_type": "code",
      "execution_count": null,
      "metadata": {
        "id": "oJsS6Lraeqd8",
        "colab": {
          "base_uri": "https://localhost:8080/",
          "height": 331
        },
        "outputId": "73975684-0821-40b9-fcd5-a908ddcb7c64"
      },
      "outputs": [
        {
          "output_type": "error",
          "ename": "ModuleNotFoundError",
          "evalue": "ignored",
          "traceback": [
            "\u001b[0;31m---------------------------------------------------------------------------\u001b[0m",
            "\u001b[0;31mModuleNotFoundError\u001b[0m                       Traceback (most recent call last)",
            "\u001b[0;32m<ipython-input-5-5980c4645958>\u001b[0m in \u001b[0;36m<cell line: 1>\u001b[0;34m()\u001b[0m\n\u001b[0;32m----> 1\u001b[0;31m \u001b[0;32mfrom\u001b[0m \u001b[0mKEYS\u001b[0m \u001b[0;32mimport\u001b[0m \u001b[0;34m*\u001b[0m\u001b[0;34m\u001b[0m\u001b[0;34m\u001b[0m\u001b[0m\n\u001b[0m",
            "\u001b[0;31mModuleNotFoundError\u001b[0m: No module named 'KEYS'",
            "",
            "\u001b[0;31m---------------------------------------------------------------------------\u001b[0;32m\nNOTE: If your import is failing due to a missing package, you can\nmanually install dependencies using either !pip or !apt.\n\nTo view examples of installing some common dependencies, click the\n\"Open Examples\" button below.\n\u001b[0;31m---------------------------------------------------------------------------\u001b[0m\n"
          ],
          "errorDetails": {
            "actions": [
              {
                "action": "open_url",
                "actionText": "Open Examples",
                "url": "/notebooks/snippets/importing_libraries.ipynb"
              }
            ]
          }
        }
      ],
      "source": [
        "from KEYS import *"
      ]
    },
    {
      "cell_type": "code",
      "execution_count": null,
      "metadata": {
        "id": "JKi3_EkmgtPk"
      },
      "outputs": [],
      "source": [
        "# key = KEYS['ODP']\n",
        "# print(key)"
      ]
    },
    {
      "cell_type": "code",
      "execution_count": null,
      "metadata": {
        "id": "PhcETd7LgyV8"
      },
      "outputs": [],
      "source": [
        "def get_time_series_for_bok(y, m, d, adj_days):\n",
        "\n",
        "    today = date.today()\n",
        "\n",
        "    # 경제 데이터 발표 주기를 고려한 날짜 조정 : 1개월 빼기\n",
        "    adj_dates = adj_days\n",
        "\n",
        "    time_adj = today - timedelta(days=adj_dates)\n",
        "    s_date = date(y, m, d)\n",
        "\n",
        "    # 텍스트화된 날자 데이터 만들기\n",
        "    date1 = s_date.strftime(\"%Y-%m-%d\").replace('-', '')\n",
        "    date2 = time_adj.strftime(\"%Y-%m-%d\").replace('-', '')\n",
        "\n",
        "    #date2 = str(date2)\n",
        "\n",
        "    # 시작 날짜와 끝 날짜를 datetime 형태로 변환\n",
        "    start_date = datetime.strptime(date1, \"%Y%m%d\")\n",
        "    end_date = datetime.strptime(date2, \"%Y%m%d\")\n",
        "\n",
        "    # date_range를 사용하여 time series 인덱스 생성\n",
        "    time_index = pd.date_range(start=start_date, end=end_date, freq='M')\n",
        "\n",
        "    n = len(time_index)\n",
        "\n",
        "    start_dt = date1[:-2]\n",
        "    end_dt = date2[:-2]\n",
        "\n",
        "    return start_dt, end_dt, time_index, n\n",
        "\n",
        "\n",
        "## 월간 경제 데이터 수신을 위한 API 함수 만들기\n",
        "\n",
        "def get_m_econ_data(n, item_code1, item_code2, date1, date2):\n",
        "\n",
        "    df_list = []\n",
        "\n",
        "    print(item_code1, item_code2)\n",
        "\n",
        "    key = KEYS['BOK']\n",
        "    url =  f\"http://ecos.bok.or.kr/api/StatisticSearch/{key}/json/kr/1/{n}/{item_code1}/M/{date1}/{date2}/{item_code2}/\"\n",
        "    response = requests.get(url)\n",
        "    #print(response.status_code)\n",
        "    data = response.text\n",
        "    data = json.loads(data)\n",
        "    data_df = pd.DataFrame(data['StatisticSearch']['row'])\n",
        "    #print(data_df)\n",
        "    df_list.append(data_df)\n",
        "\n",
        "    return df_list\n",
        "\n",
        "\n",
        "def get_multi_econ_monthly_data(n, item_code1, item_code2, s_date, e_date):\n",
        "\n",
        "    df_list = []\n",
        "\n",
        "    date1 = s_date[:-2]\n",
        "    date2 = e_date[:-2]\n",
        "\n",
        "    for item in item_code2:\n",
        "\n",
        "        temp_df = get_m_econ_data(n, item_code1, item, s_date, e_date)\n",
        "        temp_df = temp_df[0]\n",
        "\n",
        "        temp_df['DATA_VALUE'] = temp_df['DATA_VALUE'].astype('float64')\n",
        "        temp_df = temp_df[['TIME', 'ITEM_NAME1', 'DATA_VALUE']].copy()\n",
        "\n",
        "        data_len = len(temp_df)\n",
        "         # 시작 날짜와 끝 날짜를 datetime 형태로 변환\n",
        "        start_date = datetime.strptime(s_date, \"%Y%m\")\n",
        "        end_date = datetime.strptime(e_date, \"%Y%m\")\n",
        "\n",
        "        # date_range를 사용하여 time series 인덱스 생성\n",
        "        date_index = pd.date_range(start=start_date, periods=data_len, freq='M')\n",
        "        temp_df['TIME'] = date_index\n",
        "        temp_df = temp_df.set_index('TIME')\n",
        "        temp_df.index.name = 'Date'\n",
        "\n",
        "        df_list.append(temp_df)\n",
        "\n",
        "    df = pd.concat(df_list)\n",
        "\n",
        "    return df\n",
        "\n",
        "\n",
        "\n",
        "def get_bok_daily_data(n, item_code1, item_code2, s_date, e_date):\n",
        "\n",
        "    df_list = []\n",
        "\n",
        "    for item in item_code2:\n",
        "\n",
        "        temp_df = get_d_econ_data (n, item_code1, item, date1=s_date, date2=e_date)\n",
        "        temp_df = temp_df[0]\n",
        "        temp_df['DATA_VALUE'] = temp_df['DATA_VALUE'].astype('float64')\n",
        "        temp_df = temp_df[['TIME', 'ITEM_NAME1', 'DATA_VALUE']]\n",
        "        stock_df = temp_df [['TIME', 'ITEM_NAME1', 'DATA_VALUE']]\n",
        "        df_list.append(stock_df)\n",
        "\n",
        "    df = pd.concat(df_list)\n",
        "\n",
        "    return df\n",
        "\n",
        "\n",
        "def get_d_econ_data (n, item_code1, item_code2, date1, date2):\n",
        "\n",
        "    df_list = []\n",
        "\n",
        "    # print(item_code1, item_code2)\n",
        "\n",
        "    key =  KEYS['BOK']\n",
        "    url = f\"http://ecos.bok.or.kr/api/StatisticSearch/{key}/json/kr/1/{n}/{item_code1}/D/{date1}/{date2}/{item_code2}/\"\n",
        "\n",
        "    response = requests.get(url)\n",
        "    #print(response.status_code)\n",
        "    data = response.text\n",
        "    data = json.loads(data)\n",
        "    #print(data)\n",
        "    data_df = pd.DataFrame(data['StatisticSearch']['row'])\n",
        "\n",
        "    df_list.append(data_df)\n",
        "    #df = pd.concat(df_list)\n",
        "    return df_list"
      ]
    },
    {
      "cell_type": "markdown",
      "source": [
        "**<코드 해설>**\n",
        "\n",
        "- Chat GPT question 예시\n",
        "\n",
        "json 을 읽은 파일의 일부가 다음과 같습니다. 이를 데이터 프레임을 만들고 싶습니다. 코드를 알려주세요.\n",
        "\n",
        "\n",
        "{\"StatisticSearch\":{\"list_total_count\":9,\"row\":[{\"STAT_CODE\":\"721Y001\",\"STAT_NAME\":\"1.3.2.2. 시장금리(월,분기,년)\",\"ITEM_CODE1\":\"5030000\",\"ITEM_NAME1\":\"국고채(1년)\",\"ITEM_CODE2\":null,\"ITEM_NAME2\":null,\"ITEM_CODE3\":null,\"ITEM_NAME3\":null,\"ITEM_CODE4\":null,\"ITEM_NAME4\":null,\"UNIT_NAME\":\""
      ],
      "metadata": {
        "id": "gctF20-NvyRo"
      }
    },
    {
      "cell_type": "code",
      "source": [
        "key = KEYS['BOK']\n",
        "\n",
        "item_code1 = '721Y001'\n",
        "item_code2 = '5030000'\n",
        "\n",
        "date1 = '202301'\n",
        "date2 = '202309'\n",
        "\n",
        "n = 100\n",
        "\n",
        "url =  f\"http://ecos.bok.or.kr/api/StatisticSearch/{key}/json/kr/1/{n}/{item_code1}/M/{date1}/{date2}/{item_code2}/\"\n",
        "response = requests.get(url)\n",
        "print(response.status_code)\n",
        "data = response.text\n",
        "data = json.loads(data)\n",
        "print(data)"
      ],
      "metadata": {
        "id": "GQ99WkOBrJFd"
      },
      "execution_count": null,
      "outputs": []
    },
    {
      "cell_type": "code",
      "execution_count": null,
      "metadata": {
        "id": "wAKbfTKOmfMj"
      },
      "outputs": [],
      "source": [
        "n = len(pd.date_range('2010-1-1', '2021-11-30', freq='M'))\n",
        "print(n)\n",
        "date_index = pd.date_range('2010-1-1', '2021-11-30', freq='M')\n"
      ]
    },
    {
      "cell_type": "code",
      "execution_count": null,
      "metadata": {
        "id": "KrFxr-bLOzQ_"
      },
      "outputs": [],
      "source": [
        "## 1년 국채금리\n",
        "s_date = '202001'\n",
        "e_date =  '202210'\n",
        "\n",
        "item_code1 = '721Y001'\n",
        "item_code2 = '5030000'\n",
        "\n",
        "yield_df = get_m_econ_data(n, item_code1, item_code2, date1=s_date, date2=e_date)\n",
        "yield_df = yield_df[0]\n",
        "yield_df['DATA_VALUE'] = yield_df['DATA_VALUE'].astype('float64')\n",
        "\n",
        "yield_df10 = yield_df [['TIME', 'ITEM_NAME1', 'DATA_VALUE']].copy()\n",
        "yield_df10.head(5)"
      ]
    },
    {
      "cell_type": "code",
      "execution_count": null,
      "metadata": {
        "id": "Lh6ZqlviOzUZ"
      },
      "outputs": [],
      "source": [
        "## 3년 국채금리\n",
        "item_code1 = '721Y001'\n",
        "item_code2 = '5040000'\n",
        "\n",
        "yield_df = get_m_econ_data (n, item_code1, item_code2, date1=s_date, date2=e_date)\n",
        "yield_df = yield_df[0]\n",
        "yield_df['DATA_VALUE'] = yield_df['DATA_VALUE'].astype('float64')\n",
        "\n",
        "yield_df3 = yield_df [['TIME', 'ITEM_NAME1', 'DATA_VALUE']].copy()\n",
        "yield_df3.head(5)"
      ]
    },
    {
      "cell_type": "code",
      "execution_count": null,
      "metadata": {
        "id": "sStXduuyOzXa"
      },
      "outputs": [],
      "source": [
        "## 소비자 물가지수\n",
        "\n",
        "item_code1 = '901Y009'\n",
        "item_code2 = '0'\n",
        "\n",
        "CPI_data = get_m_econ_data (n, item_code1, item_code2, date1=s_date, date2=e_date)\n",
        "CPI_data = CPI_data[0]\n",
        "CPI_data['DATA_VALUE'] = CPI_data['DATA_VALUE'].astype('float64')\n",
        "CPI_df = CPI_data[['TIME', 'ITEM_NAME1', 'DATA_VALUE']].copy()"
      ]
    },
    {
      "cell_type": "code",
      "execution_count": null,
      "metadata": {
        "id": "4Or4qnh_Oza0"
      },
      "outputs": [],
      "source": [
        "## 생산자 물가지수\n",
        "\n",
        "item_code1 = '404Y014'\n",
        "item_code2 = '*AA'\n",
        "\n",
        "raw_data = get_m_econ_data (n, item_code1, item_code2, date1=s_date, date2=e_date)\n",
        "PPI_data = raw_data[0]\n",
        "PPI_data['DATA_VALUE'] = PPI_data['DATA_VALUE'].astype('float64')\n",
        "PPI_df = PPI_data[['TIME', 'ITEM_NAME1', 'DATA_VALUE']].copy()\n",
        "PPI_df.head(5)"
      ]
    },
    {
      "cell_type": "code",
      "execution_count": null,
      "metadata": {
        "id": "Hu6AM0iEm06e"
      },
      "outputs": [],
      "source": [
        "start_dt, end_dt, tm_index, n = get_time_series_for_bok(2015, 1, 1, 30)\n",
        "\n",
        "item_code1 = '721Y001'\n",
        "item_code2 = ['5030000', '5020000', '5040000', '5050000', '7020000', '7030000', '8020000']\n",
        "bond_market_df = get_multi_econ_monthly_data(n, item_code1, item_code2, start_dt, end_dt)"
      ]
    },
    {
      "cell_type": "code",
      "execution_count": null,
      "metadata": {
        "id": "maHPizCxrIHB"
      },
      "outputs": [],
      "source": [
        "bond_market_df.head(3)"
      ]
    },
    {
      "cell_type": "code",
      "execution_count": null,
      "metadata": {
        "id": "BwUdEPk1tB3T"
      },
      "outputs": [],
      "source": [
        "# 부문별전략사용량\n",
        "start_dt, end_dt, tm_index, n = get_time_series_for_bok(2010, 1, 1, 30)\n",
        "\n",
        "item_code1 = '901Y019'\n",
        "item_code2 = ['I41AA', 'I41AF']\n",
        "data = get_multi_econ_monthly_data(n, item_code1, item_code2, start_dt, end_dt)\n",
        "data"
      ]
    },
    {
      "cell_type": "code",
      "execution_count": null,
      "metadata": {
        "id": "kgcBbKfTwhJM"
      },
      "outputs": [],
      "source": [
        "data[data['ITEM_NAME1'] == '제조업'].plot()"
      ]
    },
    {
      "cell_type": "code",
      "execution_count": null,
      "metadata": {
        "id": "MBSd34biaL9I"
      },
      "outputs": [],
      "source": [
        "## 일간 주가정보 수집\n",
        "## 일간 date 입력정보 : 검색시작일자(주기에 맞는 형식으로 입력: 2015, 2015Q1, 201501, 20150101 등)\n",
        "\n",
        "today = date.today()\n",
        "past_date = date(2010, 1, 1)\n",
        "date1 = today.strftime(\"%Y-%m-%d\").replace('-', '')\n",
        "date2 = past_date.strftime(\"%Y-%m-%d\").replace('-', '')\n",
        "s_date = date2\n",
        "e_date = date1\n",
        "\n",
        "days_diff = today - past_date\n",
        "n = days_diff.days\n",
        "\n",
        "stock_item_code1 = '802Y001'\n",
        "stock_item_code2 = ['0001000', '0002000', '0003000', '0087000', '0088000', '0089000', '0090000', '0091000', '0183000']\n",
        "stock_market_df = get_bok_daily_data(n, stock_item_code1, stock_item_code2, s_date, e_date)\n"
      ]
    },
    {
      "cell_type": "code",
      "source": [
        "stock_market_df"
      ],
      "metadata": {
        "id": "x1mm6ChGkFFa"
      },
      "execution_count": null,
      "outputs": []
    },
    {
      "cell_type": "markdown",
      "metadata": {
        "id": "_rRXeHUoDcO0"
      },
      "source": [
        "#2. What is finance-datareader API?\n",
        "\n",
        "`finance-datareader`는 파이썬 언어를 이용하여 금융 데이터를 손쉽게 수집할 수 있게 도와주는 라이브러리입니다. 이 라이브러리를 사용하면 주식, 환율, 지수 등 다양한 금융 데이터를 쉽게 가져올 수 있습니다.\n",
        "\n",
        "주요 기능은 다음과 같습니다:\n",
        "\n",
        "1. **다양한 데이터 제공**: finance-datareader는 다양한 금융 데이터 제공 업체(API)들을 지원합니다. 주요한 제공 업체로는 Yahoo Finance, Google Finance, FRED(Federal Reserve Economic Data), FRED St. Louis 등이 있습니다.\n",
        "\n",
        "2. **간편한 사용법**: finance-datareader는 간단한 몇 가지 코드로 금융 데이터를 가져올 수 있습니다. 이를 통해 개발자들은 데이터 수집에 집중할 수 있습니다.\n",
        "\n",
        "3. **다양한 종류의 데이터**: 주식 가격, 거래량, 재무 제표, 환율, 지수 등 다양한 종류의 금융 데이터를 가져올 수 있습니다.\n",
        "\n",
        "예를 들어, finance-datareader를 사용하여 특정 주식의 주가 데이터를 가져오는 코드는 다음과 같습니다:\n",
        "\n",
        "```python\n",
        "import FinanceDataReader as fdr\n",
        "\n",
        "# 삼성전자(005930)의 2021년 데이터를 가져옴\n",
        "df = fdr.DataReader('005930', '2021-01-01', '2021-12-31')\n",
        "```\n",
        "\n",
        "위 코드는 삼성전자(005930)의 2021년 주가 데이터를 가져옵니다.\n",
        "\n",
        "주의할 점은, `finance-datareader`가 제공하는 데이터는 해당 데이터를 제공하는 업체(API)의 정책에 따라 제한될 수 있습니다. 때로는 무료로 제공되는 데이터와 유료로 제공되는 데이터가 있을 수 있습니다.\n",
        "\n",
        "반드시 이 라이브러리를 사용하기 전에 해당 업체의 이용 약관을 확인하고, 데이터를 사용할 수 있는 권한이 있는지 확인해야 합니다."
      ]
    },
    {
      "cell_type": "code",
      "execution_count": null,
      "metadata": {
        "id": "GQT6v4MO_x8n"
      },
      "outputs": [],
      "source": [
        "pip install finance-datareader"
      ]
    },
    {
      "cell_type": "code",
      "execution_count": null,
      "metadata": {
        "id": "XSWCdR8c_5Qi"
      },
      "outputs": [],
      "source": [
        "import FinanceDataReader as fdr"
      ]
    },
    {
      "cell_type": "markdown",
      "metadata": {
        "id": "NVtrLM0nFo-y"
      },
      "source": [
        "## 2. finance-datareader 주요 심벌 모음\n",
        "\n",
        "### 2.1 주요 Data symbol 일람\n",
        "\n",
        "|  심볼  |        거래소        |\n",
        "|:------:|:--------------------:|\n",
        "| KRX    | KRX 종목 전체        |\n",
        "| KOSPI  | KOSPI 종목           |\n",
        "| KOSDAQ | KOSDAQ 종목          |\n",
        "| KONEX  | KONEX 종목           |\n",
        "| KONEX  | KONEX 종목           |\n",
        "| NASDAQ | 나스닥 종목          |\n",
        "| NYSE   | 뉴욕 증권거래소 종목 |\n",
        "| AMEX   | AMEX 종목            |\n",
        "| SP500  | S&P 500 종목         |"
      ]
    },
    {
      "cell_type": "code",
      "execution_count": null,
      "metadata": {
        "id": "qWS6WNiqGT_E"
      },
      "outputs": [],
      "source": [
        "# KRX(Korea Exchange)로부터 상장 종목 리스트를 가져옴\n",
        "krx = fdr.StockListing('KRX')\n",
        "# 데이터 확인\n",
        "pd.DataFrame(krx)"
      ]
    },
    {
      "cell_type": "code",
      "execution_count": null,
      "metadata": {
        "id": "z0bhrAFEGUH9"
      },
      "outputs": [],
      "source": [
        "SP = fdr.StockListing('SP500')\n",
        "# 데이터 확인\n",
        "pd.DataFrame(SP)"
      ]
    },
    {
      "cell_type": "code",
      "execution_count": null,
      "metadata": {
        "id": "_HK7KaihGULg"
      },
      "outputs": [],
      "source": []
    },
    {
      "cell_type": "markdown",
      "metadata": {
        "id": "6mgk8OwTHUDZ"
      },
      "source": [
        "Q) Sector 와 Industry 별로 Groupby하여 그룹별 기업들의 수를 Count 해보자"
      ]
    },
    {
      "cell_type": "code",
      "execution_count": null,
      "metadata": {
        "id": "OrSf-D7qGUOf"
      },
      "outputs": [],
      "source": []
    },
    {
      "cell_type": "markdown",
      "metadata": {
        "id": "oTXbrtgUK2Vh"
      },
      "source": [
        "### 2.1.1 한국 주요 지수\n",
        "\n",
        "\n",
        "|  심볼  |      설명     |\n",
        "|:------:|:-------------:|\n",
        "| KS11   | KOSPI 지수    |\n",
        "| KQ11   | KOSDAQ 지수   |\n",
        "| KS50   | KOSPI 50 지수 |\n",
        "| KS100  | KOSPI 100     |\n",
        "| KRX100 | KRX 100       |\n",
        "| KS200  | 코스피 200    |"
      ]
    },
    {
      "cell_type": "code",
      "execution_count": null,
      "metadata": {
        "id": "mMe0JnuJPPpZ"
      },
      "outputs": [],
      "source": [
        "# 예시 KOSPI지수, 2018년\n",
        "df = fdr.DataReader('KS11', '2018')\n",
        "df.head(10)"
      ]
    },
    {
      "cell_type": "code",
      "execution_count": null,
      "metadata": {
        "id": "GLV8-_EgPbgD"
      },
      "outputs": [],
      "source": [
        "df['Close'].plot()"
      ]
    },
    {
      "cell_type": "code",
      "execution_count": null,
      "metadata": {
        "id": "FGYSTNifO235"
      },
      "outputs": [],
      "source": [
        "# 국내주식 삼성전자, 2018년이후 주가 조회\n",
        "df = fdr.DataReader('005930', '2018')\n",
        "df.head(10)"
      ]
    },
    {
      "cell_type": "markdown",
      "metadata": {
        "id": "6Q3RltPLLaPT"
      },
      "source": [
        "### 2.1.2 미국 주요 지수\n",
        "\n",
        "|  심볼 |              설명             |\n",
        "|:-----:|:-----------------------------:|\n",
        "| DJI   | 다우존스 지수                 |\n",
        "| IXIC  | 나스닥 종합 지수              |\n",
        "| US500 | S&P 500 지수                  |\n",
        "| RUTNU | 러셀 2000 (US Small Cap 2000) |\n",
        "| VIX   | CBOE 변동성 지수 (공포지수)   |\n",
        "\n",
        "```python\n",
        "import FinanceDataReader as fdr\n",
        "\n",
        "# 다우존스 지수 (DJI)\n",
        "df = fdr.DataReader('DJI', '2021-01-01', '2021-12-31')\n",
        "```"
      ]
    },
    {
      "cell_type": "code",
      "execution_count": null,
      "metadata": {
        "id": "hsbpaaalP-ru"
      },
      "outputs": [],
      "source": [
        "# 다우존스 지수 (DJI)\n",
        "\n",
        "date_info = datetime.now().strftime('%Y-%m-%m')\n",
        "print(date_info)\n",
        "\n",
        "df = fdr.DataReader('DJI', '2021-01-01', date_info)\n",
        "df.tail(3)"
      ]
    },
    {
      "cell_type": "code",
      "execution_count": null,
      "metadata": {
        "id": "kPM4yaJKT1He"
      },
      "outputs": [],
      "source": [
        "# 미국 개별기업들의 주가 조회\n",
        "\n",
        "# 아마존(AMZN), 2010~현재\n",
        "df = fdr.DataReader('AMZN', '2010')\n",
        "df['Close'].plot()"
      ]
    },
    {
      "cell_type": "markdown",
      "metadata": {
        "id": "5lcmSjAXL2a_"
      },
      "source": [
        "### 2.1.3 국가별 대표 지수\n",
        "\n",
        "|   심볼  |       설명      |\n",
        "|:-------:|:---------------:|\n",
        "| JP225   | 닛케이 225 선물 |\n",
        "| STOXX50 | 유럽 STOXX 50   |\n",
        "| HK50    | 항셍 지수       |\n",
        "| CSI300  | CSI 300 (중국)  |\n",
        "| TWII    | 대만 가권 지수  |\n",
        "| HNX30   | 베트남 하노이   |\n",
        "| SSEC    | 상해 종합       |\n",
        "| UK100   | 영국 FTSE       |\n",
        "| DE30    | 독일 DAX 30     |\n",
        "| FCHI    | 프랑스 CAC 40   |"
      ]
    },
    {
      "cell_type": "code",
      "execution_count": null,
      "metadata": {
        "id": "rv7CVCqMRGjH"
      },
      "outputs": [],
      "source": [
        "df = fdr.DataReader('SSEC', '2021-01-01', date_info)\n",
        "df.tail(3)"
      ]
    },
    {
      "cell_type": "markdown",
      "metadata": {
        "id": "lamxoNxoLkMT"
      },
      "source": [
        "### 2.1.4 환율\n",
        "\n",
        "\n",
        "|   심볼  |           설명           |\n",
        "|:-------:|:------------------------:|\n",
        "| USD/KRW | 달러당 원화 환율         |\n",
        "| USD/EUR | 달러당 유로화 환율       |\n",
        "| USD/JPY | 달러당 엔화 환율         |\n",
        "| CNY/KRW | 위엔화 원화 환율         |\n",
        "| EUR/USD | 유로화 달러 환율         |\n",
        "| USD/JPY | 달러 엔화 환율           |\n",
        "| JPY/KRW | 엔화 원화 환율           |\n",
        "| AUD/USD | 오스트레일리아 달러 환율 |\n",
        "| EUR/JPY | 유로화 엔화 환율         |\n",
        "| USD/RUB | 달러 루블화              |"
      ]
    },
    {
      "cell_type": "code",
      "execution_count": null,
      "metadata": {
        "id": "wAk9t2VIRoTy"
      },
      "outputs": [],
      "source": [
        "df = fdr.DataReader('USD/KRW', '2021-01-01', date_info)\n",
        "df.tail(10)"
      ]
    },
    {
      "cell_type": "markdown",
      "metadata": {
        "id": "H5jQ9fXlOTBs"
      },
      "source": [
        "### 2.1.5 암호화폐 가격\n",
        "\n",
        "- 빗썸(KRW)\n",
        "\n",
        "|   심볼  |           설명          |\n",
        "|:-------:|:-----------------------:|\n",
        "| BTC/KRW | 비트코인 원화 가격      |\n",
        "| ETH/KRW | 이더리움 원화 가격      |\n",
        "| XRP/KRW | 리플 원화 가격          |\n",
        "| BCH/KRW | 비트코인 캐시 원화 가격 |\n",
        "| EOS/KRW | 이오스 원화 가격        |\n",
        "| LTC/KRW | 라이트 코인 원화 가격   |\n",
        "| XLM/KRW | 스텔라 원화 가격        |"
      ]
    },
    {
      "cell_type": "code",
      "execution_count": null,
      "metadata": {
        "id": "9ABoe_KATsWh"
      },
      "outputs": [],
      "source": [
        "# 비트코인 원화 가격 (빗썸), 2016년~현재\n",
        "df = fdr.DataReader('ETH/KRW', '2021')\n",
        "df['Close'].plot()"
      ]
    },
    {
      "cell_type": "code",
      "execution_count": null,
      "metadata": {
        "id": "HuoUAjOcUXrp"
      },
      "outputs": [],
      "source": [
        "df.tail(5)"
      ]
    },
    {
      "cell_type": "markdown",
      "metadata": {
        "id": "SQNaKrORUfvf"
      },
      "source": [
        "### 2.1.6 FRED 데이터 조회\n",
        "\n",
        "<img src = 'https://drive.google.com/uc?id=1lmyATiTLEr-ua_Kj2hzB_gDsyL7ZLbtS' height = 500 width = 800>\n",
        "</center>\n"
      ]
    },
    {
      "cell_type": "code",
      "execution_count": null,
      "metadata": {
        "id": "_e4fIGnY_0Fs"
      },
      "outputs": [],
      "source": [
        "# FRED 데이터\n",
        "# New One Family Houses Sold: United States (HSN1F)\n",
        "# 10-Year Treasury Constant Maturity Minus 2-Year Treasury Constant Maturity (T10Y2Y)\n",
        "# ICE BofA US High Yield Index Option-Adjusted Spread (BAMLH0A0HYM2)\n",
        "# ICE BofA Single-A US Corporate Index Option-Adjusted Spread (BAMLC0A3CA)\n",
        "# Consumer Price Index for All Urban Consumers: All Items Less Food and Energy in U.S. City Average (CPILFESL)\n",
        "# S&P/Case-Shiller U.S. National Home Price Index (CSUSHPINSA)\n",
        "# Spot Crude Oil Price: West Texas Intermediate (WTI) (WTISPLC)\n",
        "# Producer Price Index by Industry: Total Manufacturing Industries (PCUOMFGOMFG)\n",
        "# University of Michigan: Consumer Sentiment (UMCSENT)\n",
        "# Industrial Production: Manufacturing (NAICS) (IPMAN)\n",
        "# Manufacturers' New Orders: Total Manufacturing (AMTMNO)\n",
        "# Consumer Price Index for All Urban Consumers: Used Cars and Trucks in U.S. City Average (CUSR0000SETA02)\n",
        "# New Privately Owned Housing Starts in the United States, Total One-Family Units (HOUST1FQ)\n",
        "# CBOE Volatility Index: VIX  (VIXCLS)"
      ]
    },
    {
      "cell_type": "markdown",
      "metadata": {
        "id": "HgXl_Cv7LeIL"
      },
      "source": [
        "### <참고 : FRED 데이터 해설 >\n",
        "\n",
        "- New One Family Houses Sold: United States (HSN1F)\n",
        "\n",
        "  >미국 FED(Federal Reserve) 경제지표 중 하나인 \"New One Family Houses Sold: United States (HSN1F)\"는 미국에서 판매된 단독주택의 수를 나타내는 지표입니다. 이 지표는 미국의 주택 시장 활동을 추적하고 평가하는 데 사용됩니다.\n",
        "  >\n",
        "  >주택 시장은 미국 경제의 중요한 부분으로, 주택 건설과 판매는 소비, 투자 및 고용에 큰 영향을 미칩니다. 따라서 주택 시장 활동을 측정하는 지표는 경제 전반의 건강 상태를 평가하는 데 도움이 됩니다.\n",
        "  >\n",
        "  >HSN1F는 \"New One Family Houses Sold\"의 약어로, 이는 새로운 단독주택의 판매를 나타냅니다. 이것은 일반적으로 새로운 주택 건설과 판매의 흐름을 추적하기 위해 사용됩니다. 이 지표가 높아질수록 주택 시장이 활발하게 움직이고 있다는 것을 나타냅니다.\n",
        "  >\n",
        "  >또한 HSN1F는 주택 시장의 건강 상태를 파악하는 데 사용될 수 있습니다. 예를 들어, 주택 판매량이 감소한다면, 이는 경기 둔화나 경제적 불확실성의 징후로 해석될 수 있습니다.\n",
        "  >\n",
        "  >이러한 지표들은 정책 결정자들, 경제 전문가들, 투자자들 등에게 미국 경제의 상태와 향후 전망을 평가하는 데 도움을 줄 수 있습니다.\n",
        "\n",
        "- 10-Year Treasury Constant Maturity Minus 2-Year Treasury Constant Maturity (T10Y2Y)\n",
        "\n",
        "  >미국 FED(Federal Reserve) 경제지표 중 하나인 \"10-Year Treasury Constant Maturity Minus 2-Year Treasury Constant Maturity (T10Y2Y)\"는 장기물 이자율과 단기물 이자율 간의 차이를 나타내는 지표입니다.\n",
        "  >\n",
        "  >이 지표는 미국 정부채 10년물과 2년물의 이자율 간 차이를 측정합니다. 즉, 10년 동안의 채권 수익률과 2년 동안의 채권 수익률의 차이를 보여줍니다.\n",
        "  >\n",
        "  >이 차이는 이자율 곡선의 형태를 나타내며, 이는 경기 전망과 금융 시장의 상황을 파악하는 중요한 지표 중 하나입니다. 일반적으로 이 차이가 양수인 경우(10년물이 2년물보다 높을 때), 이는 경기가 확장되고 있는 것으로 해석될 수 있습니다. 반대로 이 차이가 음수로 떨어지면(2년물이 10년물보다 높을 때), 이는 경기 침체의 징후로 해석될 수 있습니다.\n",
        "  >\n",
        "  >이 지표는 미국 경제의 미래 경기 전망을 예측하는 데 사용됩니다. 예를 들어, 이 차이가 좁아지는(음수로 떨어지는) 경우, 이는 향후 경기 침체의 신호로 해석될 수 있습니다.\n",
        "  >\n",
        "  >T10Y2Y는 특히 정책 결정자, 경제 전문가 및 투자자들에게 중요한 정보를 제공할 수 있는 경제 지표 중 하나입니다.\n",
        "\n",
        "\n",
        "- ICE BofA US High Yield Index Option-Adjusted Spread (BAMLH0A0HYM2)\n",
        "  >CE BofA US High Yield Index Option-Adjusted Spread (BAMLH0A0HYM2)는 미국의 고수익 채권 시장을 나타내는 지표입니다.\n",
        "  >\n",
        "  >이 지표는 일반적으로 고수익 채권 시장의 건강 상태와 투자자들이 위험을 얼마나 감수하고 있는지를 나타냅니다. 따라서 경제 전문가들과 투자자들은 이 지표를 통해 시장의 전반적인 동향을 파악하고 투자 전략을 결정할 수 있습니다.\n",
        "\n",
        "\n",
        "- ICE BofA Single-A US Corporate Index Option-Adjusted Spread (BAMLC0A3CA)\n",
        "  >미국에서 발행된 단일 A 신용 등급의 기업 채권 시장을 나타내는 지표입니다.\n",
        "\n",
        "\n",
        "- Consumer Price Index for All Urban Consumers: All Items (CPIAUCNS)\n",
        "\n",
        "  >이 지표는 미국의 도시 지역에서 소비자들이 일상적으로 구매하는 모든 상품과 서비스의 물가를 측정합니다. 즉, 식품, 주택, 의료, 교육, 교통 등 모든 항목을 포함합니다.\n",
        "  >\n",
        "  >CPI는 특정 시간대의 물가를 이전 시기와 비교하여 상승 또는 하락한 정도를 나타냅니다. 이를 통해 소비자물가의 상승률을 파악할 수 있습니다. CPI는 경제 활동, 통화 정책, 금융 시장 등에 중요한 영향을 미치며, 정부, 기업, 투자자들이 경제 상황을 평가하고 정책을 결정하는 데 사용됩니다.\n",
        "  >\n",
        "  >CPIAUCNS는 미국의 모든 도시 지역을 대상으로 하는 종합적인 소비자물가지수를 나타내며, 이는 미국 경제의 물가 변동을 파악하는 데 중요한 지표입니다.\n",
        "\n",
        "\n",
        "- S&P/Case-Shiller U.S. National Home Price Index (CSUSHPINSA)\n",
        "  >S&P/Case-Shiller U.S. National Home Price Index (CSUSHPINSA)는 미국 내 주택 시장의 가격 변동을 측정하는 인덱스입니다. 이 인덱스는 Standard & Poor's와 Case-Shiller가 협력하여 개발했으며, 주택 시장의 건강 상태와 추세를 추적하는 데 사용됩니다.\n",
        "\n",
        "- Spot Crude Oil Price: West Texas Intermediate (WTI) (WTISPLC)\n",
        "  >서부 텍사스 중질유의 현재 시장 가격을 나타내는 지표입니다.\n",
        "\n",
        "- Producer Price Index for Final Demand (PPIFD)\n",
        "  >FED(Federal Reserve)에서 PPI(Producer Price Index)를 측정하는 가장 대표적인 지표는 \"Producer Price Index for Final Demand (PPIFD)\"입니다.\n",
        "  >\n",
        "  >이는 생산자들이 최종 소비자에게 제공하기 위해 생산하는 제품들의 가격 동향을 나타냅니다. PPI는 소비자물가지수(CPI)와 함께 경제의 물가 동향을 이해하고 인플레이션의 추세를 파악하는 중요한 지표입니다. 이를 통해 정부, 기업, 투자자 등은 물가 상승률과 관련된 경제 환경을 평가하고 정책을 결정할 수 있습니다.\n",
        "\n",
        "- University of Michigan: Consumer Sentiment (UMCSENT)\n",
        "  >University of Michigan: Consumer Sentiment (UMCSENT)은 미국의 미시건 대학에서 발표하는 소비자 심리 지수입니다.\n",
        "  >\n",
        "  >이 지수는 소비자들의 경기 전망, 경기 판단, 소비 의향 등을 조사하여 측정합니다. 소비자 심리는 경제 활동에 중요한 영향을 미치는 요인 중 하나로, 소비자들이 현재와 미래의 경제 상황을 어떻게 평가하고 예측하는지를 나타냅니다.\n",
        "\n",
        "- Industrial Production: Manufacturing (NAICS) (IPMAN)\n",
        ">IPMAN은 미국의 제조업 생산량의 변동을 측정하여 경제 활동을 파악하는 중요한 지표입니다. 제조업은 미국 경제에서 중요한 부문 중 하나이며, 이 지표는 제조업 부문의 건강 상태와 생산성을 나타냅니다. 이를 통해 경제 전문가들, 정부 기관, 기업 등은 제조업의 동향을 파악하고 경제 상황을 평가할 수 있습니다.\n",
        "\n",
        "- Manufacturers' New Orders: Total Manufacturing (AMTMNO)\n",
        ">이 지표는 제조업 부문에서의 새로운 주문량을 나타냅니다. 즉, 제조업 기업들이 받은 새로운 주문의 총액을 의미합니다.\n",
        "\n",
        "- CBOE Volatility Index: VIX  (VIXCLS)\n",
        "  >VIX는 일반적으로 \"투자자들이 미래에 예상하는 주식 시장의 불확실성\"을 나타냅니다. 높은 VIX 값은 더 불안정한 시장을 나타내며, 낮은 값은 더 안정적인 시장을 나타냅니다. VIX는 주식 시장 전반의 심리적 상태를 파악하는 중요한 지표로 사용됩니다."
      ]
    },
    {
      "cell_type": "code",
      "execution_count": null,
      "metadata": {
        "id": "k8lwUSviAAvY"
      },
      "outputs": [],
      "source": [
        "data_tickers = 'FRED: T10Y2Y, BAMLH0A0HYM2, BAMLC0A3CA, CPIAUCNS, WTISPLC, UMCSENT, CSUSHPINSA, HSN1F, IPMAN, AMTMNO'\n",
        "\n",
        "macro_data = fdr.DataReader(data_tickers, '2000-01-01', date_info)\n",
        "vix_data = fdr.DataReader('FRED:VIXCLS', '2000-01-01', date_info)\n",
        "sp500_data = fdr.DataReader('US500', '2000-01-01', date_info)"
      ]
    },
    {
      "cell_type": "code",
      "execution_count": null,
      "metadata": {
        "id": "Z3ZRasUsVPxT"
      },
      "outputs": [],
      "source": [
        "macro_data.head(5)"
      ]
    },
    {
      "cell_type": "markdown",
      "metadata": {
        "id": "_ryPx36q9h0q"
      },
      "source": [
        "#3. 미국 경제지표와 주가와의 관계 분석"
      ]
    },
    {
      "cell_type": "markdown",
      "metadata": {
        "id": "tjxoUGci915Z"
      },
      "source": [
        "### 3.1.1 데이터 수집 및 시각화"
      ]
    },
    {
      "cell_type": "code",
      "execution_count": null,
      "metadata": {
        "id": "Yv9Aq-M9hlnu"
      },
      "outputs": [],
      "source": [
        "stock_mkt_data = pd.concat([sp500_data, vix_data], axis=1)\n",
        "\n",
        "# 월말 데이터 추출\n",
        "stock_month_end = stock_mkt_data.resample('M').last()"
      ]
    },
    {
      "cell_type": "code",
      "execution_count": null,
      "metadata": {
        "id": "88g_Ph2V60uE"
      },
      "outputs": [],
      "source": [
        "stock_month_end"
      ]
    },
    {
      "cell_type": "code",
      "execution_count": null,
      "metadata": {
        "id": "CnCg2vkQ-Emo"
      },
      "outputs": [],
      "source": [
        "# 데이터 확인\n",
        "macro_data.info()"
      ]
    },
    {
      "cell_type": "code",
      "execution_count": null,
      "metadata": {
        "id": "-bC5I_lW-JnJ"
      },
      "outputs": [],
      "source": [
        "# 데이터의 기초 통계량 확인\n",
        "macro_data.describe()"
      ]
    },
    {
      "cell_type": "code",
      "execution_count": null,
      "metadata": {
        "id": "aDYkdbCmXAi5"
      },
      "outputs": [],
      "source": [
        "# 각 데이터의 시각화\n",
        "# colist = macro_data.columns.tolist()\n",
        "\n",
        "# for col in colist:\n",
        "#     print(col)\n",
        "#     macro_data[col].plot()\n",
        "#     plt.show()"
      ]
    },
    {
      "cell_type": "code",
      "execution_count": null,
      "metadata": {
        "id": "jg8cXp9OXCvJ"
      },
      "outputs": [],
      "source": [
        "# 월말 데이터 추출\n",
        "macro_month_end = macro_data.resample('M').last()\n",
        "\n",
        "# 2x5 크기의 서브플롯 생성하여 데이터에 대한 그래프 그리기\n",
        "fig, axes = plt.subplots(5, 2, figsize=(13, 18))\n",
        "\n",
        "# 데이터에 대한 그래프 그리기\n",
        "for i, (col, data) in enumerate(macro_month_end.iteritems()):\n",
        "    ax = axes[i//2, i%2]\n",
        "    data.plot(ax=ax)\n",
        "    ax.set_title(col)\n",
        "\n",
        "plt.tight_layout()\n",
        "plt.show()"
      ]
    },
    {
      "cell_type": "code",
      "source": [
        "# for i, (col, data) in enumerate(macro_month_end.iteritems()):\n",
        "#     print(i, col)"
      ],
      "metadata": {
        "id": "hWjrkK59mDTC"
      },
      "execution_count": null,
      "outputs": []
    },
    {
      "cell_type": "markdown",
      "metadata": {
        "id": "yqs1W4QrdrOU"
      },
      "source": [
        "**<코드 해설>**\n",
        "\n",
        "이 코드는 주어진 데이터프레임(macro_data)에서 월말 데이터를 추출하고, 이를 5x2 크기의 서브플롯에 나타내기 위해 그래프를 그리는 코드입니다. 코드를 단계별로 설명하겠습니다:\n",
        "\n",
        "1. `macro_month_end = macro_data.resample('M').last()`: 이 부분은 주어진 데이터프레임인 `macro_data`에서 월말 데이터를 추출합니다. `resample` 메서드를 사용하여 주기를 'M' (월)로 설정하고, `last` 함수를 사용하여 각 월의 마지막 데이터를 선택합니다.\n",
        "\n",
        "2. `fig, axes = plt.subplots(5, 2, figsize=(13, 18))`: 이 부분은 5x2 크기의 서브플롯을 생성합니다. `fig, axes`는 서브플롯을 담을 Figure와 Axes 객체를 반환합니다. `figsize`는 그림의 크기를 설정합니다.\n",
        "\n",
        "3. `for i, (col, data) in enumerate(macro_month_end.iteritems()):`: 이 부분은 `macro_month_end`의 각 열(컬럼)에 대해 반복합니다. `enumerate` 함수를 사용하여 열의 인덱스(i)와 데이터를 가져옵니다.\n",
        "\n",
        "4. `ax = axes[i//2, i%2]`: 이 부분은 현재 인덱스(i)를 이용하여 서브플롯을 선택합니다. `i//2`는 행 인덱스, `i%2`는 열 인덱스를 나타냅니다.\n",
        "\n",
        "\n",
        "5. `data.plot(ax=ax)`: 이 부분은 선택된 서브플롯에 데이터를 그립니다. 각 열에 해당하는 데이터를 시각화합니다.\n",
        "\n",
        "6. `ax.set_title(col)`: 이 부분은 서브플롯의 제목을 설정합니다. 여기서 `col`은 현재 열의 이름(데이터의 종류)입니다.\n",
        "\n",
        "7. `plt.tight_layout()`: 이 부분은 서브플롯 간의 간격을 조정합니다.\n",
        "\n",
        "8. `plt.show()`: 이 부분은 그래프를 화면에 표시합니다.\n",
        "\n",
        "종합하면, 이 코드는 월말 데이터를 추출하고 이를 5x2 서브플롯에 나타내어 각 데이터의 시계열 패턴을 시각적으로 확인할 수 있도록 합니다."
      ]
    },
    {
      "cell_type": "markdown",
      "metadata": {
        "id": "jTHwTJkoawkZ"
      },
      "source": [
        "### 3.1.2 데이터 정상성 테스트와 전처리\n",
        "\n",
        "- 정상성 테스트란(stationary test)?\n",
        "\n",
        "데이터의 정상성 테스트는 시계열 데이터가 정상성을 가지고 있는지를 확인하기 위한 통계적 검정 과정입니다. 정상성(stationarity)은 시계열 데이터의 특성을 나타내는데, 시간에 따라 평균과 분산이 일정하며 시간 간의 상관관계가 일정한 경우를 말합니다.\n",
        "\n",
        "정상성 테스트는 시계열 데이터 분석에서 중요한 단계 중 하나로, 데이터의 성격을 파악하고 예측 모형을 선택하는 데 도움을 줍니다. 대표적으로 다음과 같은 정상성 테스트들이 있습니다:\n",
        "\n",
        "1. **ADF 테스트 (Augmented Dickey-Fuller Test)**: 시계열 데이터의 단위근(unit root) 존재 여부를 검정합니다. 단위근이 없는 경우, 시계열 데이터는 정상성을 가지고 있다고 볼 수 있습니다.\n",
        "\n",
        "2. **KPSS 테스트 (Kwiatkowski-Phillips-Schmidt-Shin Test)**: ADF 테스트와 반대로, 시계열 데이터가 정상성을 가지고 있는지를 검정합니다. 만약 KPSS 테스트에서 귀무 가설을 기각한다면, 시계열 데이터는 정상성을 가지고 있지 않다는 것을 의미합니다.\n",
        "\n",
        "3. **PP 테스트 (Phillips-Perron Test)**: ADF 테스트와 유사하게 시계열 데이터의 단위근 여부를 검정합니다.\n",
        "\n",
        "4. **단위근 검정 (Unit Root Test)**: 시계열 데이터의 정상성을 판단하는 데 사용되는 다양한 검정 방법들을 포괄적으로 일컫는 용어입니다.\n",
        "\n",
        "정상성을 만족하지 않는 시계열 데이터는 추세나 계절성 등의 패턴이 존재할 가능성이 높습니다. 따라서 정상성을 확인하는 것은 예측 모델을 개발하거나 데이터를 해석하는데 중요한 단계입니다."
      ]
    },
    {
      "cell_type": "code",
      "execution_count": null,
      "metadata": {
        "id": "_FdxmbIfXar-"
      },
      "outputs": [],
      "source": [
        "from statsmodels.tsa.stattools import adfuller\n",
        "\n",
        "# ADF 테스트 수행 함수\n",
        "def perform_adf_test(df_month_end ):\n",
        "    result = adfuller(df_month_end )\n",
        "    print(f'ADF Statistic: {result[0]}')\n",
        "    print(f'p-value: {result[1]}')\n",
        "    print('Critical Values:')\n",
        "    for key, value in result[4].items():\n",
        "        print(f'   {key}: {value}')\n",
        "\n",
        "# 주어진 데이터 프레임에서 각 열에 대해 ADF 테스트 수행\n",
        "for col in macro_month_end.columns:\n",
        "    print(f'결과: {col}')\n",
        "    perform_adf_test(macro_month_end[col])\n",
        "    print('\\n')"
      ]
    },
    {
      "cell_type": "markdown",
      "metadata": {
        "id": "MS5GMU2_7mcG"
      },
      "source": [
        "- 분석결과\n",
        "\n",
        "  - T10Y2Y, BAMLH0A0HYM2, BAMLC0A3CA을 제외하고 모두 Non-Stationary 확인\n",
        "\n",
        "  - VIX는 Stationary 확인, S&P500주가는 Non-Stationary 확인"
      ]
    },
    {
      "cell_type": "code",
      "execution_count": null,
      "metadata": {
        "id": "H5CNJU-k7YOk"
      },
      "outputs": [],
      "source": [
        "stock_month_end['VIXCLS'].plot()"
      ]
    },
    {
      "cell_type": "code",
      "source": [
        "macro_month_data = macro_month_end[['HSN1F']].diff()\n",
        "macro_month_data.columns = ['HSN1F_diff']\n",
        "macro_month_data = macro_month_data.dropna()\n",
        "macro_month_data.plot()"
      ],
      "metadata": {
        "id": "zzgvtxv8neRb"
      },
      "execution_count": null,
      "outputs": []
    },
    {
      "cell_type": "code",
      "source": [
        " perform_adf_test(macro_month_data['HSN1F_diff'])"
      ],
      "metadata": {
        "id": "wVDs2AqwoKpT"
      },
      "execution_count": null,
      "outputs": []
    },
    {
      "cell_type": "code",
      "source": [
        " perform_adf_test(macro_month_end['HSN1F'])"
      ],
      "metadata": {
        "id": "lZrqQHjloYOb"
      },
      "execution_count": null,
      "outputs": []
    },
    {
      "cell_type": "code",
      "source": [],
      "metadata": {
        "id": "yDLuV0WiqMuK"
      },
      "execution_count": null,
      "outputs": []
    }
  ],
  "metadata": {
    "colab": {
      "provenance": [],
      "include_colab_link": true
    },
    "kernelspec": {
      "display_name": "Python 3",
      "name": "python3"
    },
    "language_info": {
      "name": "python"
    }
  },
  "nbformat": 4,
  "nbformat_minor": 0
}
