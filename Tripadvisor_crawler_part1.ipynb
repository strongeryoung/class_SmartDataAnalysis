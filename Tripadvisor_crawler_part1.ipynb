{
  "cells": [
    {
      "cell_type": "markdown",
      "metadata": {
        "id": "view-in-github",
        "colab_type": "text"
      },
      "source": [
        "<a href=\"https://colab.research.google.com/github/strongeryoung/class_SmartDataAnalysis/blob/main/Tripadvisor_crawler_part1.ipynb\" target=\"_parent\"><img src=\"https://colab.research.google.com/assets/colab-badge.svg\" alt=\"Open In Colab\"/></a>"
      ]
    },
    {
      "cell_type": "code",
      "execution_count": null,
      "metadata": {
        "id": "V3ZJdufx8mXk",
        "outputId": "3f2de0b4-b9c4-40a2-b474-4967b6b1073b"
      },
      "outputs": [
        {
          "name": "stdout",
          "output_type": "stream",
          "text": [
            "chromedriver is installed: C:\\Users\\MetaM\\PycharmProjects\\jobposting\\120\\chromedriver.exe\n"
          ]
        },
        {
          "name": "stderr",
          "output_type": "stream",
          "text": [
            "C:\\Users\\MetaM\\AppData\\Local\\Temp\\ipykernel_25568\\2105169620.py:40: DeprecationWarning: executable_path has been deprecated, please pass in a Service object\n",
            "  browser = webdriver.Chrome(driver_path, options=options)  # 크롬 드라이버를 할당\n"
          ]
        }
      ],
      "source": [
        "import pandas as pd\n",
        "\n",
        "import requests\n",
        "\n",
        "from selenium import webdriver\n",
        "from selenium.webdriver.chrome.options import Options\n",
        "import subprocess\n",
        "import shutil\n",
        "from selenium.webdriver.common.by import By\n",
        "from selenium.webdriver.common.keys import Keys\n",
        "from selenium.webdriver.support.ui import WebDriverWait\n",
        "from selenium.webdriver.support import expected_conditions as EC\n",
        "from selenium.webdriver.common.desired_capabilities import DesiredCapabilities\n",
        "from bs4 import BeautifulSoup\n",
        "import time\n",
        "import datetime\n",
        "\n",
        "import os\n",
        "import re\n",
        "import chromedriver_autoinstaller\n",
        "from selenium.webdriver import ActionChains\n",
        "import numpy as np\n",
        "\n",
        "\n",
        "chrome_ver = chromedriver_autoinstaller.get_chrome_version().split('.')[0]  # 크롬 버전을 확인한다.\n",
        "\n",
        "driver_path = r\"C:\\Users\\MetaM\\PycharmProjects\\jobposting\\120\\chromedriver.exe\"\n",
        "\n",
        "# driver_path = f'./{chrome_ver}/chromedriver.exe'\n",
        "if os.path.exists(driver_path):\n",
        "    print(f\"chromedriver is installed: {driver_path}\")  # 있는 버전을 쓴다.\n",
        "else:\n",
        "    print(f\"install the chrome driver(ver: {chrome_ver})\")  # 크롬을 최신 버전으로 설치한다.\n",
        "    chromedriver_autoinstaller.install(True)\n",
        "\n",
        "options = webdriver.ChromeOptions()  # 크롬 옵션을 추가한다.\n",
        "# options.add_argument('headless')\n",
        "options.add_experimental_option(\"detach\", True)  # 크롬 안 꺼지는 옵션 추가\n",
        "options.add_experimental_option(\"excludeSwitches\", [\"enable-logging\"])  # 크롬 안 꺼지는 옵션 추가\n",
        "browser = webdriver.Chrome(driver_path, options=options)  # 크롬 드라이버를 할당\n",
        "url = 'https://www.tripadvisor.co.kr/Search?searchSessionId=00101fdb8f8d8dbe.ssid&searchNearby=false&q=%EB%8F%84%EC%BF%84&sid=BDA3328C3C92A0CAA0BD7C4308F855291700186626160&blockRedirect=true&geo=1&ssrc=h&rf=1'  # 로그인 사이트 접속\n",
        "browser.get(url)\n",
        "browser.maximize_window()\n",
        "browser.implicitly_wait(3)"
      ]
    },
    {
      "cell_type": "code",
      "execution_count": null,
      "metadata": {
        "id": "C5P9geAp8mXv"
      },
      "outputs": [],
      "source": [
        "# # CSS_SELECTOR를 사용하여 요소 찾기\n",
        "# element = browser.find_element(By.CSS_SELECTOR, \"div:nth-child(1) > div > div > div > div.ui_column.is-9-desktop.is-8-mobile.is-9-tablet.content-block-column > div.location-meta-block > div.result-title\")\n",
        "# element.click()\n",
        "# time.sleep(3)\n",
        "\n",
        "# element = browser.find_element(By.CLASS_NAME, 'result-title')\n",
        "# element"
      ]
    },
    {
      "cell_type": "code",
      "execution_count": null,
      "metadata": {
        "id": "ycAX2OTe8mXy"
      },
      "outputs": [],
      "source": [
        "page_source = browser.page_source\n",
        "soup = BeautifulSoup(page_source, 'html.parser')"
      ]
    },
    {
      "cell_type": "code",
      "execution_count": null,
      "metadata": {
        "id": "EuIvlVSE8mX0"
      },
      "outputs": [],
      "source": [
        "urls_info = soup.find_all('div', attrs={'class', 'result-title'})"
      ]
    },
    {
      "cell_type": "code",
      "execution_count": null,
      "metadata": {
        "id": "7Xw8IuNG8mX1"
      },
      "outputs": [],
      "source": [
        "data_len = len(urls_info)\n",
        "\n",
        "url_list = []\n",
        "\n",
        "for i in range(data_len):\n",
        "    dt = str(urls_info[i])\n",
        "    temp1_data = dt.split('/')[1]\n",
        "    body = temp1_data.split('.html')[0]\n",
        "    head = 'https://www.tripadvisor.co.kr/'\n",
        "    tail = '.html'\n",
        "    html_add = head + body + tail\n",
        "    url_list.append(html_add)"
      ]
    },
    {
      "cell_type": "code",
      "execution_count": null,
      "metadata": {
        "id": "09ctvyX88mX2"
      },
      "outputs": [],
      "source": [
        "hotel_url = url_list[0]"
      ]
    },
    {
      "cell_type": "code",
      "execution_count": null,
      "metadata": {
        "id": "SUkXdixc8mX3"
      },
      "outputs": [],
      "source": [
        "# pd.DataFrame(url_list, columns=['url']).to_excel(r'C:\\Users\\MetaM\\PycharmProjects\\jobposting\\hotel_url.xlsx')"
      ]
    },
    {
      "cell_type": "code",
      "execution_count": null,
      "metadata": {
        "id": "-BVp8nS88mX4",
        "outputId": "ea516fd3-1847-4968-a5a8-8e2453b14d47"
      },
      "outputs": [
        {
          "data": {
            "text/plain": [
              "['https://www.tripadvisor.co.kr/Hotel_Review-g14134868-d304292-Reviews-Hilton_Tokyo_Bay-Maihama_Urayasu_Chiba_Prefecture_Kanto.html',\n",
              " 'https://www.tripadvisor.co.kr/Hotel_Review-g1066451-d571809-Reviews-Conrad_Tokyo-Minato_Tokyo_Tokyo_Prefecture_Kanto.html',\n",
              " 'https://www.tripadvisor.co.kr/Hotel_Review-g14134368-d302387-Reviews-Grand_Nikko_Tokyo_Daiba-Daiba_Minato_Tokyo_Tokyo_Prefecture_Kanto.html',\n",
              " 'https://www.tripadvisor.co.kr/Hotel_Review-g298161-d307183-Reviews-Hilton_Tokyo_Narita_Airport_Hotel-Narita_Chiba_Prefecture_Kanto.html',\n",
              " 'https://www.tripadvisor.co.kr/Hotel_Review-g1066457-d1418991-Reviews-Citadines_Shinjuku_Tokyo-Shinjuku_Tokyo_Tokyo_Prefecture_Kanto.html',\n",
              " 'https://www.tripadvisor.co.kr/Hotel_Review-g1066457-d1146432-Reviews-Hundred_Stay_Tokyo_Shinjuku-Shinjuku_Tokyo_Tokyo_Prefecture_Kanto.html',\n",
              " 'https://www.tripadvisor.co.kr/Hotel_Review-g297667-d1976668-Reviews-Hotel_Tokyo_Palace_Jaisalmer-Jaisalmer_Jaisalmer_District_Rajasthan.html',\n",
              " 'https://www.tripadvisor.co.kr/Hotel_Review-g14133673-d304305-Reviews-Keio_Plaza_Hotel_Tokyo-Nishishinjuku_Shinjuku_Tokyo_Tokyo_Prefecture_Kanto.html',\n",
              " 'https://www.tripadvisor.co.kr/Hotel_Review-g1066443-d301279-Reviews-Hotel_New_Otani_Tokyo_The_Main-Chiyoda_Tokyo_Tokyo_Prefecture_Kanto.html',\n",
              " 'https://www.tripadvisor.co.kr/Hotel_Review-g14129735-d306610-Reviews-Grand_Hyatt_Tokyo-Roppongi_Minato_Tokyo_Tokyo_Prefecture_Kanto.html',\n",
              " 'https://www.tripadvisor.co.kr/Hotel_Review-g14133673-d304289-Reviews-Hilton_Tokyo-Nishishinjuku_Shinjuku_Tokyo_Tokyo_Prefecture_Kanto.html',\n",
              " 'https://www.tripadvisor.co.kr/Hotel_Review-g14129647-d6485175-Reviews-Andaz_Tokyo_Toranomon_Hills-Toranomon_Minato_Tokyo_Tokyo_Prefecture_Kanto.html',\n",
              " 'https://www.tripadvisor.co.kr/Hotel_Review-g14133667-d1070779-Reviews-Citadines_Central_Shinjuku_Tokyo-Kabukicho_Shinjuku_Tokyo_Tokyo_Prefecture_Kanto.html',\n",
              " 'https://www.tripadvisor.co.kr/Hotel_Review-g14129528-d1235856-Reviews-Shangri_La_Tokyo-Marunouchi_Chiyoda_Tokyo_Tokyo_Prefecture_Kanto.html',\n",
              " 'https://www.tripadvisor.co.kr/Hotel_Review-g1066444-d585204-Reviews-Mandarin_Oriental_Tokyo-Chuo_Tokyo_Tokyo_Prefecture_Kanto.html',\n",
              " 'https://www.tripadvisor.co.kr/Hotel_Review-g14129536-d580687-Reviews-The_Peninsula_Tokyo-Yurakucho_Chiyoda_Tokyo_Tokyo_Prefecture_Kanto.html',\n",
              " 'https://www.tripadvisor.co.kr/Hotel_Review-g14129743-d634263-Reviews-The_Ritz_Carlton_Tokyo-Akasaka_Minato_Tokyo_Tokyo_Prefecture_Kanto.html',\n",
              " 'https://www.tripadvisor.co.kr/Hotel_Review-g1066443-d1475716-Reviews-Hotel_Niwa_Tokyo-Chiyoda_Tokyo_Tokyo_Prefecture_Kanto.html',\n",
              " 'https://www.tripadvisor.co.kr/Hotel_Review-g14129528-d301911-Reviews-Four_Seasons_Hotel_Tokyo_at_Marunouchi-Marunouchi_Chiyoda_Tokyo_Tokyo_Prefecture_Kant.html',\n",
              " 'https://www.tripadvisor.co.kr/Hotel_Review-g1066451-d307378-Reviews-The_Royal_Park_Hotel_Iconic_Tokyo_Shiodome-Minato_Tokyo_Tokyo_Prefecture_Kanto.html',\n",
              " 'https://www.tripadvisor.co.kr/Hotel_Review-g14134868-d304532-Reviews-Sheraton_Grande_Tokyo_Bay_Hotel-Maihama_Urayasu_Chiba_Prefecture_Kanto.html',\n",
              " 'https://www.tripadvisor.co.kr/Hotel_Review-g14129573-d503002-Reviews-Mercure_Tokyo_Ginza-Ginza_Chuo_Tokyo_Tokyo_Prefecture_Kanto.html',\n",
              " 'https://www.tripadvisor.co.kr/Hotel_Review-g14129730-d301389-Reviews-Tokyo_Prince_Hotel-Shibakoen_Minato_Tokyo_Tokyo_Prefecture_Kanto.html',\n",
              " 'https://www.tripadvisor.co.kr/Hotel_Review-g1066444-d505857-Reviews-Smile_Hotel_Tokyo_Nihombashi-Chuo_Tokyo_Tokyo_Prefecture_Kanto.html',\n",
              " 'https://www.tripadvisor.co.kr/Hotel_Review-g14129743-d300459-Reviews-InterContinental_ANA_Tokyo_an_IHG_Hotel-Akasaka_Minato_Tokyo_Tokyo_Prefecture_Kanto.html',\n",
              " 'https://www.tripadvisor.co.kr/Hotel_Review-g14134868-d1087601-Reviews-Tokyo_Disneyland_Hotel-Maihama_Urayasu_Chiba_Prefecture_Kanto.html',\n",
              " 'https://www.tripadvisor.co.kr/Hotel_Review-g14129520-d1479297-Reviews-Hotel_Ryumeikan_Tokyo-Yaesu_Chuo_Tokyo_Tokyo_Prefecture_Kanto.html',\n",
              " 'https://www.tripadvisor.co.kr/Hotel_Review-g14129730-d579136-Reviews-The_Prince_Park_Tower_Tokyo-Shibakoen_Minato_Tokyo_Tokyo_Prefecture_Kanto.html',\n",
              " 'https://www.tripadvisor.co.kr/Hotel_Review-g14131029-d306375-Reviews-Sheraton_Miyako_Hotel_Tokyo-Shirokanedai_Minato_Tokyo_Tokyo_Prefecture_Kanto.html',\n",
              " 'https://www.tripadvisor.co.kr/Hotel_Review-g14131019-d301385-Reviews-The_Prince_Sakura_Tower_Tokyo_Autograph_Collection-Takanawa_Minato_Tokyo_Tokyo_Prefec.html']"
            ]
          },
          "execution_count": 8,
          "metadata": {},
          "output_type": "execute_result"
        }
      ],
      "source": [
        "url_list"
      ]
    },
    {
      "cell_type": "code",
      "execution_count": null,
      "metadata": {
        "id": "vcoL8dU48mX5"
      },
      "outputs": [],
      "source": []
    }
  ],
  "metadata": {
    "kernelspec": {
      "display_name": "Python 3 (ipykernel)",
      "language": "python",
      "name": "python3"
    },
    "language_info": {
      "codemirror_mode": {
        "name": "ipython",
        "version": 3
      },
      "file_extension": ".py",
      "mimetype": "text/x-python",
      "name": "python",
      "nbconvert_exporter": "python",
      "pygments_lexer": "ipython3",
      "version": "3.9.13"
    },
    "colab": {
      "provenance": [],
      "include_colab_link": true
    }
  },
  "nbformat": 4,
  "nbformat_minor": 0
}