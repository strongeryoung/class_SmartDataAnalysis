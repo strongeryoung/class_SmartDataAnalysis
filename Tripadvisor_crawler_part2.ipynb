{
  "cells": [
    {
      "cell_type": "markdown",
      "metadata": {
        "id": "view-in-github",
        "colab_type": "text"
      },
      "source": [
        "<a href=\"https://colab.research.google.com/github/strongeryoung/class_SmartDataAnalysis/blob/main/Tripadvisor_crawler_part2.ipynb\" target=\"_parent\"><img src=\"https://colab.research.google.com/assets/colab-badge.svg\" alt=\"Open In Colab\"/></a>"
      ]
    },
    {
      "cell_type": "code",
      "execution_count": null,
      "metadata": {
        "id": "GxJfdrPm8nmD"
      },
      "outputs": [],
      "source": [
        "import pandas as pd\n",
        "\n",
        "import requests\n",
        "\n",
        "from selenium import webdriver\n",
        "from selenium.webdriver.chrome.options import Options\n",
        "import subprocess\n",
        "import shutil\n",
        "from selenium.webdriver.common.by import By\n",
        "from selenium.webdriver.common.keys import Keys\n",
        "from selenium.webdriver.support.ui import WebDriverWait\n",
        "from selenium.webdriver.support import expected_conditions as EC\n",
        "from selenium.webdriver.common.desired_capabilities import DesiredCapabilities\n",
        "from bs4 import BeautifulSoup\n",
        "import time\n",
        "import datetime\n",
        "\n",
        "import os\n",
        "import re\n",
        "import chromedriver_autoinstaller\n",
        "from selenium.webdriver import ActionChains\n",
        "import numpy as np"
      ]
    },
    {
      "cell_type": "code",
      "execution_count": null,
      "metadata": {
        "id": "vP1to3E68nmG"
      },
      "outputs": [],
      "source": [
        "def getSessionInfo(driver,url):\n",
        "\n",
        "    # 해당 사이트 이동\n",
        "    driver.get(url)\n",
        "    time.sleep(5)\n",
        "\n",
        "    #  request Session을 만든다\n",
        "    s = requests.Session()\n",
        "    # 쿠키 업데이트로 세션을 로그인된걸로 알게 한다\n",
        "    for cookie in driver.get_cookies():\n",
        "        c = {cookie['name'] : cookie['value']}\n",
        "        s.cookies.update(c)\n",
        "    return (s)"
      ]
    },
    {
      "cell_type": "code",
      "execution_count": null,
      "metadata": {
        "id": "m9Vhz8B38nmH"
      },
      "outputs": [],
      "source": [
        "data = pd.read_excel(r'C:\\Users\\MetaM\\PycharmProjects\\jobposting\\hotel_url.xlsx')\n",
        "data = data.drop(columns= 'Unnamed: 0')\n",
        "url_list = data['url'].values.tolist()"
      ]
    },
    {
      "cell_type": "code",
      "execution_count": null,
      "metadata": {
        "id": "nCAmsczo8nmH",
        "outputId": "3ce11d3f-3ca8-491b-9309-2fceeedf79fc"
      },
      "outputs": [
        {
          "name": "stdout",
          "output_type": "stream",
          "text": [
            "chromedriver is installed: C:\\Users\\MetaM\\PycharmProjects\\jobposting\\120\\chromedriver.exe\n"
          ]
        },
        {
          "name": "stderr",
          "output_type": "stream",
          "text": [
            "C:\\Users\\MetaM\\AppData\\Local\\Temp\\ipykernel_24672\\4034276062.py:16: DeprecationWarning: executable_path has been deprecated, please pass in a Service object\n",
            "  browser = webdriver.Chrome(driver_path, options=options)  # 크롬 드라이버를 할당\n"
          ]
        }
      ],
      "source": [
        "chrome_ver = chromedriver_autoinstaller.get_chrome_version().split('.')[0]  # 크롬 버전을 확인한다.\n",
        "\n",
        "driver_path = r\"C:\\Users\\MetaM\\PycharmProjects\\jobposting\\120\\chromedriver.exe\"\n",
        "\n",
        "# driver_path = f'./{chrome_ver}/chromedriver.exe'\n",
        "if os.path.exists(driver_path):\n",
        "    print(f\"chromedriver is installed: {driver_path}\")  # 있는 버전을 쓴다.\n",
        "else:\n",
        "    print(f\"install the chrome driver(ver: {chrome_ver})\")  # 크롬을 최신 버전으로 설치한다.\n",
        "    chromedriver_autoinstaller.install(True)\n",
        "\n",
        "options = webdriver.ChromeOptions()  # 크롬 옵션을 추가한다.\n",
        "# options.add_argument('headless')\n",
        "options.add_experimental_option(\"detach\", True)  # 크롬 안 꺼지는 옵션 추가\n",
        "options.add_experimental_option(\"excludeSwitches\", [\"enable-logging\"])  # 크롬 안 꺼지는 옵션 추가\n",
        "browser = webdriver.Chrome(driver_path, options=options)  # 크롬 드라이버를 할당"
      ]
    },
    {
      "cell_type": "code",
      "execution_count": null,
      "metadata": {
        "id": "OJcJimRv8nmK"
      },
      "outputs": [],
      "source": [
        "url = url_list[0]\n",
        "browser.get(url)\n",
        "browser.maximize_window()\n",
        "browser.implicitly_wait(3)"
      ]
    },
    {
      "cell_type": "code",
      "execution_count": null,
      "metadata": {
        "id": "nHUTIoDq8nmL"
      },
      "outputs": [],
      "source": [
        "page_source = browser.page_source\n",
        "soup = BeautifulSoup(page_source, 'html.parser')\n",
        "review = soup.find_all('div', attrs={'class': 'fIrGe _T'})"
      ]
    },
    {
      "cell_type": "code",
      "execution_count": null,
      "metadata": {
        "id": "p2gtT09a8nmM"
      },
      "outputs": [],
      "source": [
        "review_list = []\n",
        "for i in range(1,7):\n",
        "    review_txt = review[i].get_text()\n",
        "    review_list.append(review_txt)"
      ]
    },
    {
      "cell_type": "code",
      "execution_count": null,
      "metadata": {
        "id": "6wvK9nir8nmM",
        "outputId": "14011069-dcd1-4a63-caab-a0603d1a6420"
      },
      "outputs": [
        {
          "data": {
            "text/html": [
              "<div>\n",
              "<style scoped>\n",
              "    .dataframe tbody tr th:only-of-type {\n",
              "        vertical-align: middle;\n",
              "    }\n",
              "\n",
              "    .dataframe tbody tr th {\n",
              "        vertical-align: top;\n",
              "    }\n",
              "\n",
              "    .dataframe thead th {\n",
              "        text-align: right;\n",
              "    }\n",
              "</style>\n",
              "<table border=\"1\" class=\"dataframe\">\n",
              "  <thead>\n",
              "    <tr style=\"text-align: right;\">\n",
              "      <th></th>\n",
              "      <th>0</th>\n",
              "    </tr>\n",
              "  </thead>\n",
              "  <tbody>\n",
              "    <tr>\n",
              "      <th>0</th>\n",
              "      <td>객실이 낡고 카페트도 더럽고 복도에는 담배냄새가 심하게 나는 경우가 있었음. 디즈니...</td>\n",
              "    </tr>\n",
              "    <tr>\n",
              "      <th>1</th>\n",
              "      <td>Thank you for taking your time and sharing you...</td>\n",
              "    </tr>\n",
              "    <tr>\n",
              "      <th>2</th>\n",
              "      <td>차라리 도쿄 시내에 방잡고 지하철 타고 다니세요...어차피 모노레일 타야해서...여...</td>\n",
              "    </tr>\n",
              "    <tr>\n",
              "      <th>3</th>\n",
              "      <td>디즈니 이용을 염두에 둔다면 나쁘지 않습니다. 마이하마역까지 셔틀 운행을 하므로 도...</td>\n",
              "    </tr>\n",
              "    <tr>\n",
              "      <th>4</th>\n",
              "      <td>싱글침대를 붙여, 넓은 침대공간을 제공받았는데 아이들이 너무 좋아하였습니다. 이외에...</td>\n",
              "    </tr>\n",
              "    <tr>\n",
              "      <th>5</th>\n",
              "      <td>디즈니랜드 접근성이 좋고 아이들에 대한 세심한 배려가 곳곳에서 보였습니다. 다시 가...</td>\n",
              "    </tr>\n",
              "  </tbody>\n",
              "</table>\n",
              "</div>"
            ],
            "text/plain": [
              "                                                   0\n",
              "0  객실이 낡고 카페트도 더럽고 복도에는 담배냄새가 심하게 나는 경우가 있었음. 디즈니...\n",
              "1  Thank you for taking your time and sharing you...\n",
              "2  차라리 도쿄 시내에 방잡고 지하철 타고 다니세요...어차피 모노레일 타야해서...여...\n",
              "3  디즈니 이용을 염두에 둔다면 나쁘지 않습니다. 마이하마역까지 셔틀 운행을 하므로 도...\n",
              "4  싱글침대를 붙여, 넓은 침대공간을 제공받았는데 아이들이 너무 좋아하였습니다. 이외에...\n",
              "5  디즈니랜드 접근성이 좋고 아이들에 대한 세심한 배려가 곳곳에서 보였습니다. 다시 가..."
            ]
          },
          "execution_count": 8,
          "metadata": {},
          "output_type": "execute_result"
        }
      ],
      "source": [
        "pd.DataFrame(review_list)"
      ]
    },
    {
      "cell_type": "code",
      "execution_count": null,
      "metadata": {
        "id": "SsS1RBM08nmN"
      },
      "outputs": [],
      "source": [
        "reviews_num = ['', 5, 10, 15, 20, 25, 30]\n",
        "\n",
        "review_list = []\n",
        "dt_list = []\n",
        "\n",
        "for reviews in reviews_num:\n",
        "\n",
        "    URL = f'https://www.tripadvisor.co.kr/Hotel_Review-g14134868-d304292-Reviews-or{reviews}-Hilton_Tokyo_Bay-Maihama_Urayasu_Chiba_Prefecture_Kanto.html#REVIEWS'\n",
        "\n",
        "    ## 세션 인포메니션을 업데이트 시킨다\n",
        "    s = getSessionInfo(browser, URL)\n",
        "\n",
        "    headers = {\n",
        "        'user-agent': 'Mozilla/5.0 (Windows NT 10.0; Win64; x64) AppleWebKit/537.36 (KHTML, like Gecko) Chrome/103.0.5060.134 Safari/537.36',\n",
        "        'referer': 'https://www.tripadvisor.co.kr/'\n",
        "    }\n",
        "\n",
        "    s.headers.update(headers)\n",
        "\n",
        "    browser.get(URL)\n",
        "    browser.maximize_window()\n",
        "    browser.implicitly_wait(3)\n",
        "\n",
        "    page_source = browser.page_source\n",
        "\n",
        "    soup = BeautifulSoup(page_source, 'html.parser')\n",
        "    review = soup.find_all('div', attrs={'class': 'fIrGe _T'})\n",
        "    dates = soup.find_all('div', attrs={'class': 'cRVSd'})\n",
        "\n",
        "    for i in range(1,len(review)):\n",
        "        review_txt = review[i].get_text()\n",
        "        review_list.append(review_txt)\n",
        "\n",
        "    for j in range(len(dates)):\n",
        "        date_txt = dates[j].get_text()\n",
        "        dt_list.append(date_txt)"
      ]
    },
    {
      "cell_type": "code",
      "execution_count": null,
      "metadata": {
        "id": "_fHlzDfe8nmO",
        "outputId": "6112cf84-f355-41ff-ce4f-fcd7f14f8283"
      },
      "outputs": [
        {
          "data": {
            "text/plain": [
              "'디즈니랜드 접근성이 좋고 아이들에 대한 세심한 배려가 곳곳에서 보였습니다. 다시 가게 된다면 해피매직룸에 또 한 번 투숙하고 싶어요 :)'"
            ]
          },
          "execution_count": 18,
          "metadata": {},
          "output_type": "execute_result"
        }
      ],
      "source": [
        "review_list[5]"
      ]
    },
    {
      "cell_type": "code",
      "execution_count": null,
      "metadata": {
        "id": "4EvVk6R88nmO"
      },
      "outputs": [],
      "source": []
    }
  ],
  "metadata": {
    "kernelspec": {
      "display_name": "Python 3 (ipykernel)",
      "language": "python",
      "name": "python3"
    },
    "language_info": {
      "codemirror_mode": {
        "name": "ipython",
        "version": 3
      },
      "file_extension": ".py",
      "mimetype": "text/x-python",
      "name": "python",
      "nbconvert_exporter": "python",
      "pygments_lexer": "ipython3",
      "version": "3.9.13"
    },
    "colab": {
      "provenance": [],
      "include_colab_link": true
    }
  },
  "nbformat": 4,
  "nbformat_minor": 0
}