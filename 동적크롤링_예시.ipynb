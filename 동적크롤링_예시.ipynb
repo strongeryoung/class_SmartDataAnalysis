{
  "cells": [
    {
      "cell_type": "markdown",
      "metadata": {
        "id": "view-in-github",
        "colab_type": "text"
      },
      "source": [
        "<a href=\"https://colab.research.google.com/github/strongeryoung/class_SmartDataAnalysis/blob/main/%EB%8F%99%EC%A0%81%ED%81%AC%EB%A1%A4%EB%A7%81_%EC%98%88%EC%8B%9C.ipynb\" target=\"_parent\"><img src=\"https://colab.research.google.com/assets/colab-badge.svg\" alt=\"Open In Colab\"/></a>"
      ]
    },
    {
      "cell_type": "markdown",
      "id": "7d1667b8",
      "metadata": {
        "id": "7d1667b8"
      },
      "source": [
        "# 셀레니움이란?\n",
        "\n",
        "셀레니움(Selenium)은 자동화 웹 브라우징을 위한 파이썬 라이브러리 중 하나입니다. 주로 웹 페이지를 제어하고 테스트하는 데 사용됩니다. 아래는 Selenium의 주요 특징과 사용 방법에 대한 간단한 설명입니다:\n",
        "\n",
        "1. **웹 브라우저 제어:** Selenium을 사용하면 웹 브라우저를 자동으로 제어할 수 있습니다. 이를 통해 웹 페이지를 열거나, 클릭하거나, 텍스트를 입력하거나, 다양한 상호작용을 시뮬레이트할 수 있습니다.\n",
        "\n",
        "2. **다양한 언어 지원:** Selenium은 여러 프로그래밍 언어에서 사용할 수 있습니다. 파이썬 외에도 Java, C#, Ruby, JavaScript 등에서도 지원되어 있습니다. 이는 사용자가 선호하는 언어를 선택하여 웹 자동화를 수행할 수 있게 해줍니다.\n",
        "\n",
        "3. **브라우저 지원:** Selenium은 다양한 웹 브라우저를 지원합니다. Chrome, Firefox, Safari, Edge 등의 브라우저를 제어할 수 있어 다양한 플랫폼에서 테스트 및 자동화를 수행할 수 있습니다.\n",
        "\n",
        "4. **테스트 자동화:** 주로 웹 애플리케이션의 테스트 자동화를 위해 사용됩니다. 웹 페이지의 동작을 자동으로 시뮬레이트하고, 예상된 결과와 실제 결과를 비교하여 테스트를 수행할 수 있습니다.\n",
        "\n",
        "5. **웹 스크래핑:** 웹 페이지에서 데이터를 수집하는 웹 스크래핑에도 사용됩니다. 특히, 동적으로 로딩되는 웹 페이지의 데이터를 수집하는 데 효과적입니다.\n",
        "\n",
        "6. **대기 기능:** Selenium은 웹 페이지의 요소들이 로딩되기를 기다리는 명령어를 제공합니다. 이는 웹 페이지가 완전히 로딩된 후에 동작을 계속할 수 있도록 하는데 도움이 됩니다.\n",
        "\n"
      ]
    },
    {
      "cell_type": "markdown",
      "id": "9915b894",
      "metadata": {
        "id": "9915b894"
      },
      "source": [
        "# find_element()\n",
        "\n",
        "`browser.find_element()` 메서드는 Selenium에서 제공하는 메서드로, 웹 페이지에서 특정 조건을 만족하는 첫 번째 요소를 찾습니다.\n",
        "이 메서드는 두 개의 인자를 받습니다: `By`와 `value`.\n",
        "\n",
        "1. **`browser.find_element(By.ID, \"value\")`:**\n",
        "   - `By.ID`는 ID 속성을 기반으로 요소를 찾는 데 사용됩니다.\n",
        "   - `\"value\"`에는 찾고자 하는 요소의 ID 값이 들어갑니다.\n",
        "\n",
        "   ```python\n",
        "   # 예시\n",
        "   username_input = browser.find_element(By.ID, \"username\")\n",
        "   ```\n",
        "\n",
        "2. **`browser.find_element(By.CLASS_NAME, \"value\")`:**\n",
        "   - `By.CLASS_NAME`은 클래스 이름을 기반으로 요소를 찾는 데 사용됩니다.\n",
        "   - `\"value\"`에는 찾고자 하는 요소의 클래스 이름이 들어갑니다.\n",
        "\n",
        "   ```python\n",
        "   # 예시\n",
        "   submit_button = browser.find_element(By.CLASS_NAME, \"submit-btn\")\n",
        "   ```\n",
        "\n",
        "3. **`browser.find_element(By.CSS_SELECTOR, \"value\")`:**\n",
        "   - `By.CSS_SELECTOR`는 CSS 선택자를 기반으로 요소를 찾는 데 사용됩니다.\n",
        "   - `\"value\"`에는 CSS 선택자가 들어갑니다.\n",
        "\n",
        "   ```python\n",
        "   # 예시\n",
        "   header_title = browser.find_element(By.CSS_SELECTOR, \"h1.title\")\n",
        "   ```\n",
        "\n",
        "이 함수들은 주로 웹 페이지에서 특정 요소를 찾아서 상호작용하거나 데이터를 추출할 때 사용됩니다.\n",
        "각각의 메서드는 해당 기준에 따라 웹 페이지에서 첫 번째로 일치하는 요소를 찾아 반환합니다.\n",
        "만약 여러 요소를 찾고자 할 경우에는 `find_elements()` 메서드를 사용할 수 있습니다.\n",
        "\n",
        "<참고 : 텍스트 추출>\n",
        "\n",
        "\n",
        "- ID가 \"value\"인 요소를 찾음\n",
        "element = driver.find_element(By.ID, \"value\")\n",
        "\n",
        "- 요소의 텍스트를 가져옴\n",
        "text = element.text"
      ]
    },
    {
      "cell_type": "code",
      "execution_count": null,
      "id": "4a9f221c",
      "metadata": {
        "id": "4a9f221c"
      },
      "outputs": [],
      "source": []
    },
    {
      "cell_type": "code",
      "execution_count": null,
      "id": "0a8088b5",
      "metadata": {
        "id": "0a8088b5"
      },
      "outputs": [],
      "source": [
        "import pandas as pd\n",
        "import openpyxl\n",
        "import requests\n",
        "\n",
        "from selenium import webdriver\n",
        "from selenium.webdriver.chrome.options import Options\n",
        "import subprocess\n",
        "import shutil\n",
        "from selenium.webdriver.common.by import By\n",
        "from selenium.webdriver.common.keys import Keys\n",
        "from selenium.webdriver.support.ui import WebDriverWait\n",
        "from selenium.webdriver.support import expected_conditions as EC\n",
        "from selenium.webdriver.common.desired_capabilities import DesiredCapabilities\n",
        "from bs4 import BeautifulSoup\n",
        "import time\n",
        "import datetime\n",
        "\n",
        "import os\n",
        "import re\n",
        "import chromedriver_autoinstaller\n",
        "from selenium.webdriver import ActionChains\n",
        "import numpy as np"
      ]
    },
    {
      "cell_type": "code",
      "execution_count": null,
      "id": "6acdec5f",
      "metadata": {
        "id": "6acdec5f",
        "outputId": "e59842ed-5d62-4f80-cb9f-85d3bec66c94"
      },
      "outputs": [
        {
          "name": "stdout",
          "output_type": "stream",
          "text": [
            "행갯수는: 55\n",
            "크롤링할 신문사의 순서 리스트: [7, 11]\n",
            "시작일은: 20230701\n",
            "종료일은: 20231031\n",
            "키워드리스트는: ['해외여행']\n"
          ]
        }
      ],
      "source": [
        "wb=openpyxl.load_workbook('list.xlsx')\n",
        "ws=wb.active\n",
        "\n",
        "no_row=ws.max_row\n",
        "print(\"행갯수는:\",no_row)\n",
        "\n",
        "company_sequences=[]\n",
        "for i in range(2,no_row+1):\n",
        "    value=ws.cell(row=i,column=2).value # 신문사의 크롤링 여부를 value에 저장\n",
        "    if value==\"O\": #value가 O이면 리스트에 저장\n",
        "        company_sequences.append(i-2)\n",
        "print(\"크롤링할 신문사의 순서 리스트:\",company_sequences)\n",
        "\n",
        "start_date=ws.cell(row=2,column=3).value # 엑셀에서 시작일 읽어오기\n",
        "end_date=ws.cell(row=2,column=4).value # 엑셀에서 종료일 읽어오기\n",
        "\n",
        "print(\"시작일은:\",start_date)\n",
        "print(\"종료일은:\",end_date)\n",
        "\n",
        "keyword_list=[]\n",
        "for i in range(2,no_row+1):\n",
        "    value=ws.cell(row=i,column=5).value # 신문사의 크롤링 여부를 value에 저장\n",
        "    if value!=\"\" and value!=None : #value가 O이면 리스트에 저장\n",
        "        keyword_list.append(value)\n",
        "print(\"키워드리스트는:\",keyword_list)"
      ]
    },
    {
      "cell_type": "code",
      "execution_count": null,
      "id": "2b75cc90",
      "metadata": {
        "id": "2b75cc90",
        "outputId": "22c83030-b014-4aae-d35b-71e648531c3c"
      },
      "outputs": [
        {
          "name": "stdout",
          "output_type": "stream",
          "text": [
            "chromedriver is installed: C:\\Users\\MetaM\\PycharmProjects\\jobposting\\120\\chromedriver.exe\n"
          ]
        },
        {
          "name": "stderr",
          "output_type": "stream",
          "text": [
            "C:\\Users\\MetaM\\AppData\\Local\\Temp\\ipykernel_29112\\3825516733.py:15: DeprecationWarning: executable_path has been deprecated, please pass in a Service object\n",
            "  browser = webdriver.Chrome(driver_path, options=options)  # 크롬 드라이버를 할당\n"
          ]
        }
      ],
      "source": [
        "chrome_ver = chromedriver_autoinstaller.get_chrome_version().split('.')[0]  # 크롬 버전을 확인한다.\n",
        "\n",
        "driver_path = r\"C:\\Users\\MetaM\\PycharmProjects\\jobposting\\120\\chromedriver.exe\"\n",
        "\n",
        "if os.path.exists(driver_path):\n",
        "    print(f\"chromedriver is installed: {driver_path}\")  # 있는 버전을 쓴다.\n",
        "else:\n",
        "    print(f\"install the chrome driver(ver: {chrome_ver})\")  # 크롬을 최신 버전으로 설치한다.\n",
        "    chromedriver_autoinstaller.install(True)\n",
        "\n",
        "options = webdriver.ChromeOptions()  # 크롬 옵션을 추가한다.\n",
        "# options.add_argument('headless')\n",
        "options.add_experimental_option(\"detach\", True)  # 크롬 안 꺼지는 옵션 추가\n",
        "options.add_experimental_option(\"excludeSwitches\", [\"enable-logging\"])  # 크롬 안 꺼지는 옵션 추가\n",
        "browser = webdriver.Chrome(driver_path, options=options)  # 크롬 드라이버를 할당\n",
        "url = 'https://www.bigkinds.or.kr/'  # 로그인 사이트 접속\n",
        "browser.get(url)\n",
        "browser.maximize_window()\n",
        "browser.implicitly_wait(3)\n",
        "\n",
        "btn_login=browser.find_element(By.CSS_SELECTOR,'#header > div.hd-top > div > div > button.btn-login.login-modal-btn.login-area-before') #로그인버튼 클릭\n",
        "browser.execute_script(\"arguments[0].click();\", btn_login)  #\n",
        "time.sleep(2)\n"
      ]
    },
    {
      "cell_type": "code",
      "execution_count": null,
      "id": "76232056",
      "metadata": {
        "id": "76232056"
      },
      "outputs": [],
      "source": [
        "#login-btn"
      ]
    },
    {
      "cell_type": "code",
      "execution_count": null,
      "id": "0a349fe5",
      "metadata": {
        "id": "0a349fe5"
      },
      "outputs": [],
      "source": [
        "input_id=browser.find_element(By.CSS_SELECTOR,'#login-user-id') #id입력\n",
        "input_id.send_keys(\"stox74@naver.com\")\n",
        "time.sleep(0.5)"
      ]
    },
    {
      "cell_type": "markdown",
      "id": "498b129a",
      "metadata": {
        "id": "498b129a"
      },
      "source": [
        "이 코드는 Selenium을 사용하여 웹 페이지에서 특정 ID 입력란에 값을 입력하는 동작을 수행하는 예제입니다. 코드를 한 줄씩 살펴보겠습니다.\n",
        "\n",
        "1. **`input_id = browser.find_element(By.CSS_SELECTOR, '#login-user-id')`:**\n",
        "   - `browser.find_element()` 메서드를 사용하여 CSS 선택자를 이용해 웹 페이지에서 ID가 'login-user-id'인 요소를 찾습니다.\n",
        "   - 찾은 요소는 `input_id`라는 변수에 할당됩니다.\n",
        "   - 이 요소는 주로 로그인 페이지에서 사용자 아이디를 입력하는 텍스트 입력란일 것으로 예상됩니다.\n",
        "\n",
        "2. **`input_id.send_keys(\"stox74@naver.com\")`:**\n",
        "   - `input_id` 변수에 저장된 요소에 `send_keys()` 메서드를 사용하여 \"stox74@naver.com\"이라는 문자열을 입력합니다.\n",
        "   - 이렇게 하면 웹 페이지의 해당 입력란에 사용자 아이디(이메일 주소)를 자동으로 입력하게 됩니다.\n",
        "\n",
        "3. **`time.sleep(0.5)`:**\n",
        "   - `time.sleep(0.5)` 함수를 사용하여 0.5초 동안 프로그램을 잠시 멈춥니다.\n",
        "   - 이는 일종의 대기 기능으로, 웹 페이지에서의 동작이나 로딩이 완료되기를 기다리기 위해 사용될 수 있습니다. 코드 실행이 너무 빨라서 웹 페이지가 요소를 인식하지 못하는 경우에 사용됩니다.\n"
      ]
    },
    {
      "cell_type": "code",
      "execution_count": null,
      "id": "8fc5369f",
      "metadata": {
        "id": "8fc5369f"
      },
      "outputs": [],
      "source": [
        "input_pw=browser.find_element(By.CSS_SELECTOR,'#login-user-password') #pw입력\n",
        "input_pw.send_keys(\"asas103705!\")"
      ]
    },
    {
      "cell_type": "code",
      "execution_count": null,
      "id": "8cc9d2b9",
      "metadata": {
        "id": "8cc9d2b9"
      },
      "outputs": [],
      "source": [
        "btn_login=browser.find_element(By.CSS_SELECTOR,'#login-btn') # 로그인 클릭\n",
        "browser.execute_script(\"arguments[0].click();\", btn_login)  #\n",
        "browser.implicitly_wait(3)\n",
        "time.sleep(1)"
      ]
    },
    {
      "cell_type": "code",
      "execution_count": null,
      "id": "ec86c20a",
      "metadata": {
        "id": "ec86c20a"
      },
      "outputs": [],
      "source": [
        "url = 'https://www.bigkinds.or.kr/v2/news/index.do'  # 검색 사이트로 이동\n",
        "\n",
        "browser.get(url)\n",
        "\n",
        "browser.maximize_window()\n",
        "\n",
        "browser.implicitly_wait(3)\n"
      ]
    },
    {
      "cell_type": "code",
      "execution_count": null,
      "id": "7706ce87",
      "metadata": {
        "id": "7706ce87"
      },
      "outputs": [],
      "source": [
        "company_group=browser.find_element(By.CLASS_NAME,'chk-lst')"
      ]
    },
    {
      "cell_type": "code",
      "execution_count": null,
      "id": "67cdfeb7",
      "metadata": {
        "id": "67cdfeb7",
        "outputId": "f6f9c75d-19be-4ca6-dd4a-b2c5fad8d353"
      },
      "outputs": [
        {
          "data": {
            "text/plain": [
              "<selenium.webdriver.remote.webelement.WebElement (session=\"96444719793bf3003be7106084e37c42\", element=\"CA296366FF054438BAFE4DD9DAAFDC5F_element_235\")>"
            ]
          },
          "execution_count": 57,
          "metadata": {},
          "output_type": "execute_result"
        }
      ],
      "source": [
        "company_group"
      ]
    },
    {
      "cell_type": "code",
      "execution_count": null,
      "id": "d2bbe403",
      "metadata": {
        "id": "d2bbe403"
      },
      "outputs": [],
      "source": [
        "company_list=company_group.find_elements(By.TAG_NAME,'li')\n",
        "\n",
        "for index,company in enumerate(company_list): # 신문사를 엑셀 정보를 파악하여 선택한다.\n",
        "    for company_sequence in company_sequences:\n",
        "        if company_sequence==index:\n",
        "            company.click()\n",
        "    time.sleep(0.2)\n",
        "time.sleep(1)"
      ]
    },
    {
      "cell_type": "code",
      "execution_count": null,
      "id": "be2ed153",
      "metadata": {
        "id": "be2ed153",
        "outputId": "9111043b-5b16-4008-b782-d16e8e1d8554"
      },
      "outputs": [
        {
          "data": {
            "text/plain": [
              "[7, 11]"
            ]
          },
          "execution_count": 59,
          "metadata": {},
          "output_type": "execute_result"
        }
      ],
      "source": [
        "company_sequences"
      ]
    },
    {
      "cell_type": "code",
      "execution_count": null,
      "id": "00c41f4c",
      "metadata": {
        "id": "00c41f4c"
      },
      "outputs": [],
      "source": [
        "#기간 선택 탭 클릭\n",
        "btn_period = browser.find_element(By.CSS_SELECTOR, '#collapse-step-1-body > div.srch-detail.v2 > div > div.tab-btn-wp1 > div.tab-btn-inner.tab1 > a') #기간선택을 한다.\n",
        "browser.execute_script(\"arguments[0].click();\", btn_period)  #\n",
        "time.sleep(1)"
      ]
    },
    {
      "cell_type": "code",
      "execution_count": null,
      "id": "2eda51de",
      "metadata": {
        "id": "2eda51de"
      },
      "outputs": [],
      "source": [
        "#collapse-step-1-body > div.srch-detail.v2 > div > div.tab-btn-wp1 > div.tab-btn-inner.tab1 > a"
      ]
    },
    {
      "cell_type": "code",
      "execution_count": null,
      "id": "8551c505",
      "metadata": {
        "id": "8551c505",
        "outputId": "957516e9-c7a6-4131-8d0a-d893db0437ce"
      },
      "outputs": [
        {
          "name": "stdout",
          "output_type": "stream",
          "text": [
            "시작일 입력\n"
          ]
        }
      ],
      "source": [
        "print(\"시작일 입력\")\n",
        "btn_start_date = browser.find_element(By.CSS_SELECTOR, '#srch-tab1 > div > div.item-input > div > div:nth-child(1)') #시작일을 입력한다.\n",
        "btn_start_date.click()\n",
        "ActionChains(browser).key_down(Keys.CONTROL).send_keys('a').key_up(Keys.CONTROL).perform()\n",
        "ActionChains(browser).send_keys(Keys.DELETE).perform()\n",
        "ActionChains(browser).send_keys(start_date).perform()\n",
        "time.sleep(1)"
      ]
    },
    {
      "cell_type": "markdown",
      "id": "1b9e9fc7",
      "metadata": {
        "id": "1b9e9fc7"
      },
      "source": [
        "1. `btn_start_date = browser.find_element(By.CSS_SELECTOR, '#srch-tab1 > div > div.item-input > div > div:nth-child(1)')`: 웹 페이지에서 `#srch-tab1 > div > div.item-input > div > div:nth-child(1)` CSS 선택자로 지정된 요소를 찾아서 `btn_start_date` 변수에 할당합니다. 이 요소는 시작일을 입력하는 버튼 또는 입력란일 것으로 예상됩니다.\n",
        "\n",
        "2. `btn_start_date.click()`: 찾아낸 요소를 클릭합니다. 이 동작은 웹 페이지에서 해당 버튼을 클릭하는 것과 동등합니다.\n",
        "\n",
        "3. `ActionChains(browser).key_down(Keys.CONTROL).send_keys('a').key_up(Keys.CONTROL).perform()`: ActionChains를 사용하여 Control (Ctrl) 키를 누르고 'a' 키를 누르고, 그 후에 Control 키를 떼는 동작을 수행합니다. 이것은 텍스트 입력란에서 전체 텍스트를 선택하는 단축키를 모방하는 것으로 보입니다.\n",
        "\n",
        "4. `ActionChains(browser).send_keys(Keys.DELETE).perform()`: ActionChains를 사용하여 'Delete' 키를 누르는 동작을 수행합니다. 이로써 이전에 선택된 텍스트를 삭제합니다.\n",
        "\n",
        "5. `ActionChains(browser).send_keys(start_date).perform()`: ActionChains를 사용하여 `start_date` 변수에 저장된 값(날짜)을 입력란에 입력하는 동작을 수행합니다.\n",
        "\n",
        "6. `time.sleep(1)`: 1초 동안 프로그램을 일시적으로 멈춥니다. 이는 웹 페이지의 동적 로딩이나 다양한 상황에 대비하여 충분한 대기 시간을 확보하기 위한 것입니다.\n"
      ]
    },
    {
      "cell_type": "code",
      "execution_count": null,
      "id": "a4b41e81",
      "metadata": {
        "id": "a4b41e81",
        "outputId": "65ee593e-33c7-42bd-8f81-d52c27f99196"
      },
      "outputs": [
        {
          "name": "stdout",
          "output_type": "stream",
          "text": [
            "종료일 입력\n"
          ]
        }
      ],
      "source": [
        "print(\"종료일 입력\")\n",
        "btn_end_date = browser.find_element(By.CSS_SELECTOR, '#srch-tab1 > div > div.item-input > div > div:nth-child(3)') #종료일을 입력한다.\n",
        "btn_end_date.click()\n",
        "ActionChains(browser).key_down(Keys.CONTROL).send_keys('a').key_up(Keys.CONTROL).perform()\n",
        "ActionChains(browser).send_keys(Keys.DELETE).perform()\n",
        "ActionChains(browser).send_keys(end_date).perform()\n",
        "time.sleep(1)"
      ]
    },
    {
      "cell_type": "code",
      "execution_count": null,
      "id": "b7bd6350",
      "metadata": {
        "id": "b7bd6350",
        "outputId": "b001519b-7619-4f8b-c70a-45090ab5efe5"
      },
      "outputs": [
        {
          "name": "stdout",
          "output_type": "stream",
          "text": [
            "검색옵션 설정\n"
          ]
        }
      ],
      "source": [
        "print(\"검색옵션 설정\")\n",
        "btn_search_condition = browser.find_element(By.CSS_SELECTOR, '#collapse-step-1-body > div.srch-detail.v2 > div > div.tab-btn-wp3 > div.tab-btn-inner.tab5 > a') #검색 옵션을 선택한다.(ONLY 제목)\n",
        "browser.execute_script(\"arguments[0].click();\", btn_search_condition)  #\n",
        "time.sleep(1)"
      ]
    },
    {
      "cell_type": "code",
      "execution_count": null,
      "id": "a16254ec",
      "metadata": {
        "id": "a16254ec"
      },
      "outputs": [],
      "source": [
        "only_title=browser.find_element(By.CSS_SELECTOR,'#search-scope-type > option:nth-child(2)')\n",
        "only_title.click()\n",
        "time.sleep(1)\n"
      ]
    },
    {
      "cell_type": "code",
      "execution_count": null,
      "id": "8940135c",
      "metadata": {
        "id": "8940135c"
      },
      "outputs": [],
      "source": [
        "for keyword in keyword_list: #키워드 별로 검색을 시작한다.\n",
        "    browser.execute_script('window.scrollTo(0,0)')\n",
        "    input_search = browser.find_element(By.CSS_SELECTOR, '#total-search-key') # 입력란 선택\n",
        "    input_search.click()\n",
        "    ActionChains(browser).key_down(Keys.CONTROL).send_keys('a').key_up(Keys.CONTROL).perform() # 전체 선택\n",
        "    time.sleep(0.5)\n",
        "    ActionChains(browser).send_keys(Keys.DELETE).perform() # 삭제 입력\n",
        "    time.sleep(0.5)\n",
        "    input_search.send_keys(keyword) #검색어 입력\n",
        "    time.sleep(0.5)\n",
        "    input_search.send_keys(Keys.ENTER) #엔터키 입력\n",
        "    time.sleep(3)"
      ]
    },
    {
      "cell_type": "code",
      "execution_count": null,
      "id": "bae673a1",
      "metadata": {
        "id": "bae673a1",
        "outputId": "801d437d-6267-49ed-ba05-8827806c9f2c"
      },
      "outputs": [
        {
          "name": "stdout",
          "output_type": "stream",
          "text": [
            "STEP3클릭\n"
          ]
        }
      ],
      "source": [
        "print(\"STEP3클릭\")\n",
        "btn_step3=browser.find_element(By.CSS_SELECTOR,'#contents > div.page-body.no-padding.collap-lst > div > div:nth-child(3)') #STEP3을 선택\n",
        "btn_step3.click()\n",
        "time.sleep(5)"
      ]
    },
    {
      "cell_type": "code",
      "execution_count": null,
      "id": "3ae10c33",
      "metadata": {
        "id": "3ae10c33",
        "outputId": "6bb05a90-bccf-4b6f-ebb2-31a71b303ef5"
      },
      "outputs": [
        {
          "name": "stdout",
          "output_type": "stream",
          "text": [
            "STEP3클릭\n"
          ]
        }
      ],
      "source": [
        "print(\"STEP3클릭\")\n",
        "btn_step3=browser.find_element(By.CSS_SELECTOR,'#collapse-step-3') #STEP3을 선택\n",
        "btn_step3.click()\n",
        "time.sleep(5)"
      ]
    },
    {
      "cell_type": "code",
      "execution_count": null,
      "id": "2b94915c",
      "metadata": {
        "id": "2b94915c",
        "outputId": "7f80ec88-8da2-4af1-e278-2f1efafdd143"
      },
      "outputs": [
        {
          "name": "stdout",
          "output_type": "stream",
          "text": [
            "엑셀 다운로드 클릭\n"
          ]
        }
      ],
      "source": [
        "print(\"엑셀 다운로드 클릭\")\n",
        "btn_save=browser.find_element(By.CSS_SELECTOR,'#analytics-data-download > div.btm-btn-wrp > button') # 엑셀 다운로드 버튼 클릭\n",
        "browser.execute_script(\"arguments[0].click();\", btn_save)  #\n",
        "time.sleep(1)"
      ]
    },
    {
      "cell_type": "code",
      "execution_count": null,
      "id": "940c3062",
      "metadata": {
        "id": "940c3062"
      },
      "outputs": [],
      "source": [
        "browser.execute_script('window.scrollTo(0,0)') #스크롤 최상단 이동\n",
        "btn_search = browser.find_element(By.CSS_SELECTOR,'#contents > div.page-body.no-padding.collap-lst > div > div:nth-child(1)') #STEP01 다시 선택\n",
        "btn_search.click()\n",
        "time.sleep(3)"
      ]
    },
    {
      "cell_type": "code",
      "execution_count": null,
      "id": "a2db9ac4",
      "metadata": {
        "id": "a2db9ac4"
      },
      "outputs": [],
      "source": [
        "#total-search-key"
      ]
    },
    {
      "cell_type": "code",
      "execution_count": null,
      "id": "6e5afb0d",
      "metadata": {
        "id": "6e5afb0d"
      },
      "outputs": [],
      "source": [
        "#search-begin-date"
      ]
    },
    {
      "cell_type": "code",
      "execution_count": null,
      "id": "2d67fe89",
      "metadata": {
        "id": "2d67fe89"
      },
      "outputs": [],
      "source": [
        "#srch-tab1 > div > div.item-input > div > div:nth-child(1) > img"
      ]
    },
    {
      "cell_type": "code",
      "execution_count": null,
      "id": "13e4444a",
      "metadata": {
        "id": "13e4444a"
      },
      "outputs": [],
      "source": [
        "#srch-tab1 > div > div.item-input > div > div:nth-child(3) > img"
      ]
    },
    {
      "cell_type": "code",
      "execution_count": null,
      "id": "cad88b2c",
      "metadata": {
        "id": "cad88b2c"
      },
      "outputs": [],
      "source": [
        "#collapse-step-1-body > div.srch-detail.v2 > div > div.tab-btn-wp3 > div.tab-btn-inner.tab5 > a"
      ]
    },
    {
      "cell_type": "code",
      "execution_count": null,
      "id": "ff01ca6d",
      "metadata": {
        "id": "ff01ca6d"
      },
      "outputs": [],
      "source": [
        "#search-scope-type > option:nth-child(2)"
      ]
    },
    {
      "cell_type": "code",
      "execution_count": null,
      "id": "3ece668c",
      "metadata": {
        "id": "3ece668c"
      },
      "outputs": [],
      "source": [
        "#collapse-step-1 > span"
      ]
    },
    {
      "cell_type": "code",
      "execution_count": null,
      "id": "52636123",
      "metadata": {
        "id": "52636123"
      },
      "outputs": [],
      "source": [
        "#analytics-data-download > div.btm-btn-wrp > button"
      ]
    },
    {
      "cell_type": "code",
      "execution_count": null,
      "id": "481b784d",
      "metadata": {
        "id": "481b784d"
      },
      "outputs": [],
      "source": [
        "wb=openpyxl.load_workbook('list.xlsx')\n",
        "ws=wb.active\n",
        "\n",
        "no_row=ws.max_row\n",
        "print(\"행갯수는:\",no_row)\n",
        "\n",
        "company_sequences=[]\n",
        "for i in range(2,no_row+1):\n",
        "    value=ws.cell(row=i,column=2).value # 신문사의 크롤링 여부를 value에 저장\n",
        "    if value==\"O\": #value가 O이면 리스트에 저장\n",
        "        company_sequences.append(i-2)\n",
        "print(\"크롤링할 신문사의 순서 리스트:\",company_sequences)\n",
        "\n",
        "start_date=ws.cell(row=2,column=3).value # 엑셀에서 시작일 읽어오기\n",
        "end_date=ws.cell(row=2,column=4).value # 엑셀에서 종료일 읽어오기\n",
        "\n",
        "print(\"시작일은:\",start_date)\n",
        "print(\"종료일은:\",end_date)\n",
        "\n",
        "keyword_list=[]\n",
        "for i in range(2,no_row+1):\n",
        "    value=ws.cell(row=i,column=5).value # 신문사의 크롤링 여부를 value에 저장\n",
        "    if value!=\"\" and value!=None : #value가 O이면 리스트에 저장\n",
        "        keyword_list.append(value)\n",
        "print(\"키워드리스트는:\",keyword_list)\n",
        "\n",
        "\n",
        "\n",
        "chrome_ver = chromedriver_autoinstaller.get_chrome_version().split('.')[0]  # 크롬 버전을 확인한다.\n",
        "driver_path = f'./{chrome_ver}/chromedriver.exe'\n",
        "if os.path.exists(driver_path):\n",
        "    print(f\"chromedriver is installed: {driver_path}\")  # 있는 버전을 쓴다.\n",
        "else:\n",
        "    print(f\"install the chrome driver(ver: {chrome_ver})\")  # 크롬을 최신 버전으로 설치한다.\n",
        "    chromedriver_autoinstaller.install(True)\n",
        "\n",
        "options = webdriver.ChromeOptions()  # 크롬 옵션을 추가한다.\n",
        "# options.add_argument('headless')\n",
        "options.add_experimental_option(\"detach\", True)  # 크롬 안 꺼지는 옵션 추가\n",
        "options.add_experimental_option(\"excludeSwitches\", [\"enable-logging\"])  # 크롬 안 꺼지는 옵션 추가\n",
        "browser = webdriver.Chrome(driver_path, options=options)  # 크롬 드라이버를 할당\n",
        "url = 'https://www.bigkinds.or.kr/'  # 로그인 사이트 접속\n",
        "browser.get(url)\n",
        "browser.maximize_window()\n",
        "browser.implicitly_wait(3)\n",
        "\n",
        "btn_login=browser.find_element(By.CSS_SELECTOR,'#header > div.hd-top > div > div > button.btn-login.login-modal-btn.login-area-before') #로그인버튼 클릭\n",
        "browser.execute_script(\"arguments[0].click();\", btn_login)  #\n",
        "time.sleep(2)\n",
        "\n",
        "input_id=browser.find_element(By.CSS_SELECTOR,'#login-user-id') #id입력\n",
        "input_id.send_keys(\"여러분의ID\")\n",
        "\n",
        "time.sleep(0.5)\n",
        "input_pw=browser.find_element(By.CSS_SELECTOR,'#login-user-password') #pw입력\n",
        "input_pw.send_keys(\"여러분의 PW\")\n",
        "\n",
        "btn_login=browser.find_element(By.CSS_SELECTOR,'#login-btn') # 로그인 클릭\n",
        "browser.execute_script(\"arguments[0].click();\", btn_login)  #\n",
        "browser.implicitly_wait(3)\n",
        "time.sleep(1)\n",
        "\n",
        "\n",
        "url = 'https://www.bigkinds.or.kr/v2/news/index.do'  # 검색 사이트로 이동\n",
        "browser.get(url)\n",
        "browser.maximize_window()\n",
        "browser.implicitly_wait(3)\n",
        "company_group=browser.find_element(By.CLASS_NAME,'chk-lst')\n",
        "company_list=company_group.find_elements(By.TAG_NAME,'li')\n",
        "for index,company in enumerate(company_list): # 신문사를 엑셀 정보를 파악하여 선택한다.\n",
        "    for company_sequence in company_sequences:\n",
        "        if company_sequence==index:\n",
        "            company.click()\n",
        "    time.sleep(0.2)\n",
        "time.sleep(1)\n",
        "\n",
        "btn_period = browser.find_element(By.CSS_SELECTOR, '#collapse-step-1-body > div.srch-detail.v2 > div > div.tab-btn-wp1 > div.tab-btn-inner.tab1 > a') #기간선택을 한다.\n",
        "browser.execute_script(\"arguments[0].click();\", btn_period)  #\n",
        "time.sleep(1)\n",
        "\n",
        "print(\"시작일 입력\")\n",
        "btn_start_date = browser.find_element(By.CSS_SELECTOR, '#srch-tab1 > div > div.item-input > div > div:nth-child(1)') #시작일을 입력한다.\n",
        "btn_start_date.click()\n",
        "ActionChains(browser).key_down(Keys.CONTROL).send_keys('a').key_up(Keys.CONTROL).perform()\n",
        "ActionChains(browser).send_keys(Keys.DELETE).perform()\n",
        "ActionChains(browser).send_keys(start_date).perform()\n",
        "time.sleep(1)\n",
        "\n",
        "print(\"종료일 입력\")\n",
        "btn_end_date = browser.find_element(By.CSS_SELECTOR, '#srch-tab1 > div > div.item-input > div > div:nth-child(3)') #종료일을 입력한다.\n",
        "btn_end_date.click()\n",
        "ActionChains(browser).key_down(Keys.CONTROL).send_keys('a').key_up(Keys.CONTROL).perform()\n",
        "ActionChains(browser).send_keys(Keys.DELETE).perform()\n",
        "ActionChains(browser).send_keys(end_date).perform()\n",
        "time.sleep(1)\n",
        "\n",
        "\n",
        "print(\"검색옵션 설정\")\n",
        "btn_search_condition = browser.find_element(By.CSS_SELECTOR, '#collapse-step-1-body > div.srch-detail.v2 > div > div.tab-btn-wp3 > div.tab-btn-inner.tab5 > a') #검색 옵션을 선택한다.(ONLY 제목)\n",
        "browser.execute_script(\"arguments[0].click();\", btn_search_condition)  #\n",
        "time.sleep(1)\n",
        "\n",
        "\n",
        "only_title=browser.find_element(By.CSS_SELECTOR,'#search-scope-type > option:nth-child(2)')\n",
        "only_title.click()\n",
        "time.sleep(1)\n",
        "\n",
        "for keyword in keyword_list: #키워드 별로 검색을 시작한다.\n",
        "    browser.execute_script('window.scrollTo(0,0)')\n",
        "    input_search = browser.find_element(By.CSS_SELECTOR, '#total-search-key') # 입력란 선택\n",
        "    input_search.click()\n",
        "    ActionChains(browser).key_down(Keys.CONTROL).send_keys('a').key_up(Keys.CONTROL).perform() # 전체 선택\n",
        "    time.sleep(0.5)\n",
        "    ActionChains(browser).send_keys(Keys.DELETE).perform() # 삭제 입력\n",
        "    time.sleep(0.5)\n",
        "    input_search.send_keys(keyword) #검색어 입력\n",
        "    time.sleep(0.5)\n",
        "    input_search.send_keys(Keys.ENTER) #엔터키 입력\n",
        "    time.sleep(3)\n",
        "\n",
        "    print(\"STEP3클릭\")\n",
        "    btn_step3=browser.find_element(By.CSS_SELECTOR,'#contents > div.page-body.no-padding.collap-lst > div > div:nth-child(3)') #STEP3을 선택\n",
        "    btn_step3.click()\n",
        "    time.sleep(5)\n",
        "\n",
        "    print(\"엑셀 다운로드 클릭\")\n",
        "    btn_save=browser.find_element(By.CSS_SELECTOR,'#analytics-data-download > div.btm-btn-wrp > button') # 엑셀 다운로드 버튼 클릭\n",
        "    browser.execute_script(\"arguments[0].click();\", btn_save)  #\n",
        "    time.sleep(1)\n",
        "\n",
        "    browser.execute_script('window.scrollTo(0,0)') #스크롤 최상단 이동\n",
        "    btn_search = browser.find_element(By.CSS_SELECTOR,'#contents > div.page-body.no-padding.collap-lst > div > div:nth-child(1)') #STEP01 다시 선택\n",
        "    btn_search.click()\n",
        "    time.sleep(3)\n",
        "\n",
        "# browser.execute_script('window.scrollTo(0,document.body.scrollHeight)') #끝까지 스크롤 내리기"
      ]
    }
  ],
  "metadata": {
    "kernelspec": {
      "display_name": "Python 3 (ipykernel)",
      "language": "python",
      "name": "python3"
    },
    "language_info": {
      "codemirror_mode": {
        "name": "ipython",
        "version": 3
      },
      "file_extension": ".py",
      "mimetype": "text/x-python",
      "name": "python",
      "nbconvert_exporter": "python",
      "pygments_lexer": "ipython3",
      "version": "3.9.13"
    },
    "colab": {
      "provenance": [],
      "include_colab_link": true
    }
  },
  "nbformat": 4,
  "nbformat_minor": 5
}