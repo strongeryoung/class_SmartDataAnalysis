{
  "cells": [
    {
      "cell_type": "markdown",
      "metadata": {
        "id": "view-in-github",
        "colab_type": "text"
      },
      "source": [
        "<a href=\"https://colab.research.google.com/github/strongeryoung/class_SmartDataAnalysis/blob/main/%EC%8B%A4%EC%A0%84_%EC%97%B0%EC%8A%B5_%EC%97%90%EC%96%B4%EB%B9%84%EC%97%94%EB%B9%84.ipynb\" target=\"_parent\"><img src=\"https://colab.research.google.com/assets/colab-badge.svg\" alt=\"Open In Colab\"/></a>"
      ]
    },
    {
      "cell_type": "code",
      "execution_count": null,
      "id": "067f564f",
      "metadata": {
        "id": "067f564f"
      },
      "outputs": [],
      "source": [
        "import pandas as pd\n",
        "import openpyxl\n",
        "import requests\n",
        "\n",
        "from selenium import webdriver\n",
        "from selenium.webdriver.chrome.options import Options\n",
        "import subprocess\n",
        "import shutil\n",
        "from selenium.webdriver.common.by import By\n",
        "from selenium.webdriver.common.keys import Keys\n",
        "from selenium.webdriver.support.ui import WebDriverWait\n",
        "from selenium.webdriver.support import expected_conditions as EC\n",
        "from selenium.webdriver.common.desired_capabilities import DesiredCapabilities\n",
        "from bs4 import BeautifulSoup\n",
        "import time\n",
        "import datetime\n",
        "\n",
        "import os\n",
        "import re\n",
        "import chromedriver_autoinstaller\n",
        "from selenium.webdriver import ActionChains\n",
        "import numpy as np"
      ]
    },
    {
      "cell_type": "code",
      "execution_count": null,
      "id": "9ae83f3b",
      "metadata": {
        "id": "9ae83f3b"
      },
      "outputs": [],
      "source": [
        "def getSessionInfo(driver,url):\n",
        "\n",
        "    # 해당 사이트 이동\n",
        "    driver.get(url)\n",
        "    time.sleep(5)\n",
        "\n",
        "    #  request Session을 만든다\n",
        "    s = requests.Session()\n",
        "    # 쿠키 업데이트로 세션을 로그인된걸로 알게 한다\n",
        "    for cookie in driver.get_cookies():\n",
        "        c = {cookie['name'] : cookie['value']}\n",
        "        s.cookies.update(c)\n",
        "    return (s)"
      ]
    },
    {
      "cell_type": "code",
      "execution_count": null,
      "id": "74faf784",
      "metadata": {
        "id": "74faf784",
        "outputId": "b02359d0-ba5d-421c-d237-2c037cdfd05d"
      },
      "outputs": [
        {
          "name": "stdout",
          "output_type": "stream",
          "text": [
            "chromedriver is installed: C:\\Users\\MetaM\\PycharmProjects\\jobposting\\120\\chromedriver.exe\n"
          ]
        },
        {
          "name": "stderr",
          "output_type": "stream",
          "text": [
            "C:\\Users\\MetaM\\AppData\\Local\\Temp\\ipykernel_16672\\3092282157.py:15: DeprecationWarning: executable_path has been deprecated, please pass in a Service object\n",
            "  browser = webdriver.Chrome(driver_path, options=options)  # 크롬 드라이버를 할당\n"
          ]
        }
      ],
      "source": [
        "chrome_ver = chromedriver_autoinstaller.get_chrome_version().split('.')[0]  # 크롬 버전을 확인한다.\n",
        "\n",
        "driver_path = r\"C:\\Users\\MetaM\\PycharmProjects\\jobposting\\120\\chromedriver.exe\"\n",
        "\n",
        "if os.path.exists(driver_path):\n",
        "    print(f\"chromedriver is installed: {driver_path}\")  # 있는 버전을 쓴다.\n",
        "else:\n",
        "    print(f\"install the chrome driver(ver: {chrome_ver})\")  # 크롬을 최신 버전으로 설치한다.\n",
        "    chromedriver_autoinstaller.install(True)\n",
        "\n",
        "options = webdriver.ChromeOptions()  # 크롬 옵션을 추가한다.\n",
        "# options.add_argument('headless')\n",
        "options.add_experimental_option(\"detach\", True)  # 크롬 안 꺼지는 옵션 추가\n",
        "options.add_experimental_option(\"excludeSwitches\", [\"enable-logging\"])  # 크롬 안 꺼지는 옵션 추가\n",
        "browser = webdriver.Chrome(driver_path, options=options)  # 크롬 드라이버를 할당\n",
        "\n"
      ]
    },
    {
      "cell_type": "code",
      "execution_count": null,
      "id": "9b69c42e",
      "metadata": {
        "id": "9b69c42e"
      },
      "outputs": [],
      "source": [
        "#  https://www.airbnb.co.kr/rooms/926638381418918258?adults=1&category_tag=Tag%3A8536&children=0&enable_m3_private_room=true&infants=0&pets=0&photo_id=1688325730&search_mode=flex_destinations_search&check_in=2024-01-14&check_out=2024-01-19&source_impression_id=p3_1700883911_djfGfEJUjd1%2BsDh4&previous_page_section_name=1000&federated_search_id=ec4ceaa1-4704-4535-bb40-6d8669d8c82e\n",
        "\n",
        "# https://www.airbnb.co.kr/rooms/926638381418918258/reviews?adults=1&category_tag=Tag%3A8536&children=0&enable_m3_private_room=true&infants=0&pets=0&photo_id=1688325730&search_mode=flex_destinations_search&check_in=2024-01-14&check_out=2024-01-19&source_impression_id=p3_1700883911_djfGfEJUjd1%2BsDh4&previous_page_section_name=1000&federated_search_id=ec4ceaa1-4704-4535-bb40-6d8669d8c82e"
      ]
    },
    {
      "cell_type": "code",
      "execution_count": null,
      "id": "23daeb8f",
      "metadata": {
        "id": "23daeb8f"
      },
      "outputs": [],
      "source": [
        "URL = 'https://www.airbnb.co.kr/rooms/926638381418918258/reviews?adults=1&category_tag=Tag%3A8536&children=0&enable_m3_private_room=true&infants=0&pets=0&photo_id=1688325730&search_mode=flex_destinations_search&check_in=2024-01-14&check_out=2024-01-19&source_impression_id=p3_1700883911_djfGfEJUjd1%2BsDh4&previous_page_section_name=1000&federated_search_id=ec4ceaa1-4704-4535-bb40-6d8669d8c82e'\n",
        "\n",
        "\n",
        "세션 인포메니션을 업데이트 시킨다\n",
        "s = getSessionInfo(browser, URL)\n",
        "\n",
        "headers = {\n",
        "    'user-agent': 'Mozilla/5.0 (Windows NT 10.0; Win64; x64) AppleWebKit/537.36 (KHTML, like Gecko) Chrome/103.0.5060.134 Safari/537.36',\n",
        "    'referer': 'https://www.airbnb.co.kr/'\n",
        "}\n",
        "\n",
        "s.headers.update(headers)\n",
        "\n",
        "\n",
        "browser.get(URL)\n",
        "browser.maximize_window()\n",
        "browser.implicitly_wait(3)"
      ]
    },
    {
      "cell_type": "code",
      "execution_count": null,
      "id": "7592e2e3",
      "metadata": {
        "id": "7592e2e3"
      },
      "outputs": [],
      "source": [
        "\n",
        "page_source = browser.page_source\n",
        "soup = BeautifulSoup(page_source, 'html.parser')\n",
        "review = soup.find_all('div', attrs={'class': 'r1are2x1 dir dir-ltr'})\n",
        "\n",
        "# review[0].find_all('div', attrs={'calss' : 'c5dn5hn dir dir-ltr'})\n"
      ]
    },
    {
      "cell_type": "code",
      "execution_count": null,
      "id": "6fe568ef",
      "metadata": {
        "id": "6fe568ef"
      },
      "outputs": [],
      "source": [
        "review_info"
      ]
    },
    {
      "cell_type": "code",
      "execution_count": null,
      "id": "d800a030",
      "metadata": {
        "id": "d800a030"
      },
      "outputs": [],
      "source": [
        "for i in range(len(review)):\n",
        "    txt = review[i].get_text()\n",
        "    print(txt)"
      ]
    },
    {
      "cell_type": "code",
      "execution_count": null,
      "id": "430ce39a",
      "metadata": {
        "id": "430ce39a",
        "outputId": "ba438159-dfa5-4754-e006-40d8c28c2c63"
      },
      "outputs": [
        {
          "data": {
            "text/plain": [
              "0"
            ]
          },
          "execution_count": 61,
          "metadata": {},
          "output_type": "execute_result"
        }
      ],
      "source": [
        "len(review)"
      ]
    },
    {
      "cell_type": "code",
      "execution_count": null,
      "id": "e74e6e6f",
      "metadata": {
        "id": "e74e6e6f"
      },
      "outputs": [],
      "source": []
    }
  ],
  "metadata": {
    "kernelspec": {
      "display_name": "Python 3 (ipykernel)",
      "language": "python",
      "name": "python3"
    },
    "language_info": {
      "codemirror_mode": {
        "name": "ipython",
        "version": 3
      },
      "file_extension": ".py",
      "mimetype": "text/x-python",
      "name": "python",
      "nbconvert_exporter": "python",
      "pygments_lexer": "ipython3",
      "version": "3.9.13"
    },
    "colab": {
      "provenance": [],
      "include_colab_link": true
    }
  },
  "nbformat": 4,
  "nbformat_minor": 5
}